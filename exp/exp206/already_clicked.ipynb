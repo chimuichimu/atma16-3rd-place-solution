{
 "cells": [
  {
   "cell_type": "markdown",
   "id": "8efcce1a-165a-4a5b-aa5b-1b0d0c4a23c1",
   "metadata": {},
   "source": [
    "# Setting"
   ]
  },
  {
   "cell_type": "code",
   "execution_count": 1,
   "id": "7c076122-4690-4781-a486-e699bed02d69",
   "metadata": {},
   "outputs": [],
   "source": [
    "import os\n",
    "from typing import List, Dict, Union\n",
    "\n",
    "import polars as pl\n",
    "\n",
    "from scripts.metrics import map_at_k"
   ]
  },
  {
   "cell_type": "code",
   "execution_count": 2,
   "id": "298c78ad-edda-49c1-a972-842d08660152",
   "metadata": {},
   "outputs": [],
   "source": [
    "INPUT_DIR = \"../../input/raw/\"\n",
    "OUTPUT_DIR = \"./candidates/\""
   ]
  },
  {
   "cell_type": "code",
   "execution_count": 3,
   "id": "f0388692-1478-428d-ae54-212fd6e241ce",
   "metadata": {},
   "outputs": [],
   "source": [
    "def generate_already_clicked_candidates(df:pl.DataFrame) -> pl.DataFrame:\n",
    "    # 最後から数えて何番目のアクションか？\n",
    "    df = df \\\n",
    "        .sort([\"session_id\", \"seq_no\"], descending=[False, True]) \\\n",
    "        .with_columns(\n",
    "            pl.col(\"seq_no\")\n",
    "            .cumcount()\n",
    "            .over(\"session_id\")\n",
    "            .alias(\"seq_no_inverse\")\n",
    "        )\n",
    "    \n",
    "    # 一番最近のものは削除\n",
    "    df = df.filter(pl.col(\"seq_no_inverse\") != 0)\n",
    "    \n",
    "    # 整形\n",
    "    df = df[[\"session_id\", \"yad_no\", \"seq_no_inverse\"]].rename({\"yad_no\":\"candidate_yad_no\"})\n",
    "    \n",
    "    return df"
   ]
  },
  {
   "cell_type": "markdown",
   "id": "491659c0-7e69-471e-96eb-451c0575d045",
   "metadata": {},
   "source": [
    "# For local train/eval"
   ]
  },
  {
   "cell_type": "code",
   "execution_count": 4,
   "id": "4e35acd2-91b7-4301-823d-65c3593b0e5b",
   "metadata": {},
   "outputs": [],
   "source": [
    "train_log = pl.read_csv(os.path.join(INPUT_DIR, \"train_log.csv\"))"
   ]
  },
  {
   "cell_type": "code",
   "execution_count": 5,
   "id": "c95b7027-3a97-411d-91e4-d4d5d36f48db",
   "metadata": {},
   "outputs": [],
   "source": [
    "already_clicked = generate_already_clicked_candidates(train_log)"
   ]
  },
  {
   "cell_type": "code",
   "execution_count": 6,
   "id": "214632ad-e3e5-4f29-98e1-1475f398eab9",
   "metadata": {},
   "outputs": [],
   "source": [
    "already_clicked.write_parquet(os.path.join(OUTPUT_DIR, \"already_clicked_for_train_or_eval.parquet\"))"
   ]
  },
  {
   "cell_type": "code",
   "execution_count": 7,
   "id": "423daf96-cb7c-48ea-b9f0-89688256167a",
   "metadata": {},
   "outputs": [
    {
     "data": {
      "text/html": [
       "<div><style>\n",
       ".dataframe > thead > tr > th,\n",
       ".dataframe > tbody > tr > td {\n",
       "  text-align: right;\n",
       "  white-space: pre-wrap;\n",
       "}\n",
       "</style>\n",
       "<small>shape: (5, 3)</small><table border=\"1\" class=\"dataframe\"><thead><tr><th>session_id</th><th>candidate_yad_no</th><th>seq_no_inverse</th></tr><tr><td>str</td><td>i64</td><td>u32</td></tr></thead><tbody><tr><td>&quot;000104bdffaaad…</td><td>96</td><td>1</td></tr><tr><td>&quot;00026fd325b5d6…</td><td>756</td><td>1</td></tr><tr><td>&quot;0003439cbd15fa…</td><td>143</td><td>1</td></tr><tr><td>&quot;0003948318658b…</td><td>569</td><td>1</td></tr><tr><td>&quot;00044db9da5da4…</td><td>1383</td><td>1</td></tr></tbody></table></div>"
      ],
      "text/plain": [
       "shape: (5, 3)\n",
       "┌──────────────────────────────────┬──────────────────┬────────────────┐\n",
       "│ session_id                       ┆ candidate_yad_no ┆ seq_no_inverse │\n",
       "│ ---                              ┆ ---              ┆ ---            │\n",
       "│ str                              ┆ i64              ┆ u32            │\n",
       "╞══════════════════════════════════╪══════════════════╪════════════════╡\n",
       "│ 000104bdffaaad1a1e0a9ebacf585f33 ┆ 96               ┆ 1              │\n",
       "│ 00026fd325b5d65d18e6de78ea2a3751 ┆ 756              ┆ 1              │\n",
       "│ 0003439cbd15fa2463d0e97d56dadf8e ┆ 143              ┆ 1              │\n",
       "│ 0003948318658b2072bc29e99415743e ┆ 569              ┆ 1              │\n",
       "│ 00044db9da5da40b1e0056ba487cdc28 ┆ 1383             ┆ 1              │\n",
       "└──────────────────────────────────┴──────────────────┴────────────────┘"
      ]
     },
     "execution_count": 7,
     "metadata": {},
     "output_type": "execute_result"
    }
   ],
   "source": [
    "already_clicked.head()"
   ]
  },
  {
   "cell_type": "markdown",
   "id": "1951dcac-0337-46f7-afd2-23f12afe6fdb",
   "metadata": {},
   "source": [
    "# MAP@k=10"
   ]
  },
  {
   "cell_type": "code",
   "execution_count": 8,
   "id": "99b9bacc-af08-4a3c-aa0a-34e38016ec06",
   "metadata": {},
   "outputs": [],
   "source": [
    "train_log = pl.read_csv(os.path.join(INPUT_DIR, \"train_log.csv\"))\n",
    "train_label = pl.read_csv(os.path.join(INPUT_DIR, \"train_label.csv\")).rename({\"yad_no\":\"label_yad_no\"})"
   ]
  },
  {
   "cell_type": "code",
   "execution_count": 9,
   "id": "3475109c-84cd-4b4d-a059-274e0cd673a5",
   "metadata": {},
   "outputs": [],
   "source": [
    "already_clicked = pl.read_parquet(os.path.join(OUTPUT_DIR, \"already_clicked_for_train_or_eval.parquet\"))"
   ]
  },
  {
   "cell_type": "code",
   "execution_count": 10,
   "id": "c6bfdb8c-48ce-4aa7-a4de-d3a181e49338",
   "metadata": {},
   "outputs": [],
   "source": [
    "prediction = train_label \\\n",
    "    .join(already_clicked, on=\"session_id\", how=\"left\") \\\n",
    "    .sort([\"session_id\", \"seq_no_inverse\"], descending=[False, False]) \\\n",
    "    .with_columns((pl.col(\"candidate_yad_no\") == pl.col(\"label_yad_no\")).cast(pl.Int8).alias(\"user_relevance\")) \\\n",
    "    .fill_null(0)"
   ]
  },
  {
   "cell_type": "code",
   "execution_count": 11,
   "id": "f5ca022a-2984-42ce-8cbd-eb426c7cf081",
   "metadata": {},
   "outputs": [],
   "source": [
    "user_relevances = prediction.group_by(\"session_id\", maintain_order=True).all()[\"user_relevance\"].to_list()"
   ]
  },
  {
   "cell_type": "code",
   "execution_count": 12,
   "id": "dce91a9c-e67a-4f9b-8251-8825d4d8ed44",
   "metadata": {},
   "outputs": [
    {
     "data": {
      "text/plain": [
       "0.29503056030319813"
      ]
     },
     "execution_count": 12,
     "metadata": {},
     "output_type": "execute_result"
    }
   ],
   "source": [
    "map_at_k(user_relevances, 10)"
   ]
  },
  {
   "cell_type": "markdown",
   "id": "d38d2dcb-d08b-4512-ae8c-99b312cd17cc",
   "metadata": {},
   "source": [
    "# For test"
   ]
  },
  {
   "cell_type": "code",
   "execution_count": 13,
   "id": "041e3011-b1ff-4973-88f5-9bdd49af2bbd",
   "metadata": {},
   "outputs": [],
   "source": [
    "test_log = pl.read_csv(os.path.join(INPUT_DIR, \"test_log.csv\"))"
   ]
  },
  {
   "cell_type": "code",
   "execution_count": 14,
   "id": "89975755-6b86-4274-bd2a-35a675c0bc3c",
   "metadata": {},
   "outputs": [],
   "source": [
    "already_clicked = generate_already_clicked_candidates(test_log)"
   ]
  },
  {
   "cell_type": "code",
   "execution_count": 15,
   "id": "b481cc0b-3598-471b-9064-88df52e7e636",
   "metadata": {},
   "outputs": [],
   "source": [
    "already_clicked.write_parquet(os.path.join(OUTPUT_DIR, \"already_clicked_for_test.parquet\"))"
   ]
  },
  {
   "cell_type": "code",
   "execution_count": null,
   "id": "0d2d7a3c-6a8a-4457-a6ef-6aa93933891c",
   "metadata": {},
   "outputs": [],
   "source": []
  }
 ],
 "metadata": {
  "kernelspec": {
   "display_name": "Python 3 (ipykernel)",
   "language": "python",
   "name": "python3"
  },
  "language_info": {
   "codemirror_mode": {
    "name": "ipython",
    "version": 3
   },
   "file_extension": ".py",
   "mimetype": "text/x-python",
   "name": "python",
   "nbconvert_exporter": "python",
   "pygments_lexer": "ipython3",
   "version": "3.10.12"
  }
 },
 "nbformat": 4,
 "nbformat_minor": 5
}
