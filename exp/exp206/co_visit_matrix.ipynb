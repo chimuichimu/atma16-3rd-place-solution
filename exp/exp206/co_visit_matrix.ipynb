{
 "cells": [
  {
   "cell_type": "markdown",
   "id": "8efcce1a-165a-4a5b-aa5b-1b0d0c4a23c1",
   "metadata": {},
   "source": [
    "# Setting"
   ]
  },
  {
   "cell_type": "code",
   "execution_count": 1,
   "id": "7c076122-4690-4781-a486-e699bed02d69",
   "metadata": {},
   "outputs": [],
   "source": [
    "import os\n",
    "from typing import List, Dict, Union\n",
    "\n",
    "import polars as pl\n",
    "\n",
    "from scripts.metrics import map_at_k"
   ]
  },
  {
   "cell_type": "code",
   "execution_count": 2,
   "id": "298c78ad-edda-49c1-a972-842d08660152",
   "metadata": {},
   "outputs": [],
   "source": [
    "INPUT_DIR = \"../../input/raw/\"\n",
    "OUTPUT_DIR = \"./candidates/\"\n",
    "\n",
    "WINDOW_N = 10\n",
    "WEIGHTS = {-10:0.01, -9:0.01, -8:0.01, -7:0.01, -6:0.01, -5:0.05, -4:0.05, -3:0.1, -2:0.25, -1:1, 1:3, \\\n",
    "2:0.5, 3:0.25, 4:0.1, 5:0.05, 6:0.01, 7:0.01, 8:0.01, 9:0.01, 10:0.01, }"
   ]
  },
  {
   "cell_type": "code",
   "execution_count": 3,
   "id": "f51f82be-de47-4828-a787-cf6df7be48cf",
   "metadata": {},
   "outputs": [],
   "source": [
    "def explode_and_add_seq_no(df:pl.DataFrame) -> pl.DataFrame:\n",
    "    df = df.explode([\"prev_items\"])\n",
    "    df = df.with_columns(\n",
    "        df.select(pl.col(\"session_id\").cumcount().over(\"session_id\").alias(\"seq_no\").cast(pl.Int64))\n",
    "    )\n",
    "    return df"
   ]
  },
  {
   "cell_type": "code",
   "execution_count": 4,
   "id": "9032296d-3a14-43a6-999f-643549dfc3cc",
   "metadata": {},
   "outputs": [],
   "source": [
    "def generate_co_visit_matrix(df:pl.DataFrame, window_n:int, weights:Dict[int, float]) -> pl.DataFrame:\n",
    "    # 共起ペアの作成\n",
    "    df = df.join(df, on=\"session_id\")\n",
    "\n",
    "    # 共起した間隔を計算し、絞り込み\n",
    "    df = df.with_columns(\n",
    "        (pl.col(\"seq_no_right\").cast(pl.Int64) - pl.col(\"seq_no\").abs().cast(pl.Int64)).alias(\"diff_sequence_num\")\n",
    "    )\n",
    "    df = df.filter(pl.col(\"diff_sequence_num\") <= window_n)\n",
    "    df = df.filter(pl.col(\"yad_no\") != pl.col(\"yad_no_right\"))\n",
    "\n",
    "    # weightを計算し、共起ペアごとに和を計算\n",
    "    df = df.with_columns(\n",
    "        pl.col(\"diff_sequence_num\").map_dict(weights).alias(\"co_visit_weight\")\n",
    "    )\n",
    "    df = df.group_by([\"yad_no\", \"yad_no_right\"]).sum()\n",
    "    df = df.with_columns(pl.col(\"co_visit_weight\").rank(descending=True).over(\"yad_no\").alias(\"co_visit_weight_rank\"))\n",
    "    \n",
    "    df = df.rename({\"yad_no_right\":\"candidate_yad_no\"})[[\"yad_no\", \"candidate_yad_no\", \"co_visit_weight_rank\"]]\n",
    "\n",
    "    return df"
   ]
  },
  {
   "cell_type": "markdown",
   "id": "491659c0-7e69-471e-96eb-451c0575d045",
   "metadata": {},
   "source": [
    "# For local train/eval"
   ]
  },
  {
   "cell_type": "code",
   "execution_count": 5,
   "id": "4e35acd2-91b7-4301-823d-65c3593b0e5b",
   "metadata": {},
   "outputs": [],
   "source": [
    "train_log = pl.read_csv(os.path.join(INPUT_DIR, \"train_log.csv\"))\n",
    "test_log = pl.read_csv(os.path.join(INPUT_DIR, \"test_log.csv\"))"
   ]
  },
  {
   "cell_type": "code",
   "execution_count": 6,
   "id": "ec767d0f-9ab5-490b-bebc-874604f0f6e9",
   "metadata": {},
   "outputs": [],
   "source": [
    "log = pl.concat([train_log, test_log], how=\"vertical\")"
   ]
  },
  {
   "cell_type": "code",
   "execution_count": 7,
   "id": "ea78b085-758d-4af5-8748-9b6ae89c9b07",
   "metadata": {},
   "outputs": [],
   "source": [
    "co_visit_matrix = generate_co_visit_matrix(log, window_n=WINDOW_N, weights=WEIGHTS)"
   ]
  },
  {
   "cell_type": "code",
   "execution_count": 8,
   "id": "e7dc3966-6f39-4687-8edb-2a11724abcb7",
   "metadata": {},
   "outputs": [],
   "source": [
    "co_visit_matrix.write_parquet(os.path.join(OUTPUT_DIR, \"co_visit_matrix_for_train_or_eval.parquet\"))"
   ]
  },
  {
   "cell_type": "code",
   "execution_count": 9,
   "id": "6689bc3f-daeb-40fe-81da-19a3dcd407c6",
   "metadata": {},
   "outputs": [
    {
     "data": {
      "text/html": [
       "<div><style>\n",
       ".dataframe > thead > tr > th,\n",
       ".dataframe > tbody > tr > td {\n",
       "  text-align: right;\n",
       "  white-space: pre-wrap;\n",
       "}\n",
       "</style>\n",
       "<small>shape: (5, 3)</small><table border=\"1\" class=\"dataframe\"><thead><tr><th>yad_no</th><th>candidate_yad_no</th><th>co_visit_weight_rank</th></tr><tr><td>i64</td><td>i64</td><td>f64</td></tr></thead><tbody><tr><td>10095</td><td>12425</td><td>95.5</td></tr><tr><td>6514</td><td>7890</td><td>1.0</td></tr><tr><td>10856</td><td>11146</td><td>24.5</td></tr><tr><td>13198</td><td>3653</td><td>13.0</td></tr><tr><td>7787</td><td>12750</td><td>12.0</td></tr></tbody></table></div>"
      ],
      "text/plain": [
       "shape: (5, 3)\n",
       "┌────────┬──────────────────┬──────────────────────┐\n",
       "│ yad_no ┆ candidate_yad_no ┆ co_visit_weight_rank │\n",
       "│ ---    ┆ ---              ┆ ---                  │\n",
       "│ i64    ┆ i64              ┆ f64                  │\n",
       "╞════════╪══════════════════╪══════════════════════╡\n",
       "│ 10095  ┆ 12425            ┆ 95.5                 │\n",
       "│ 6514   ┆ 7890             ┆ 1.0                  │\n",
       "│ 10856  ┆ 11146            ┆ 24.5                 │\n",
       "│ 13198  ┆ 3653             ┆ 13.0                 │\n",
       "│ 7787   ┆ 12750            ┆ 12.0                 │\n",
       "└────────┴──────────────────┴──────────────────────┘"
      ]
     },
     "execution_count": 9,
     "metadata": {},
     "output_type": "execute_result"
    }
   ],
   "source": [
    "co_visit_matrix.head()"
   ]
  },
  {
   "cell_type": "markdown",
   "id": "1951dcac-0337-46f7-afd2-23f12afe6fdb",
   "metadata": {},
   "source": [
    "# MAP@k=10"
   ]
  },
  {
   "cell_type": "code",
   "execution_count": 10,
   "id": "99b9bacc-af08-4a3c-aa0a-34e38016ec06",
   "metadata": {},
   "outputs": [],
   "source": [
    "train_log = pl.read_csv(os.path.join(INPUT_DIR, \"train_log.csv\"))\n",
    "train_label = pl.read_csv(os.path.join(INPUT_DIR, \"train_label.csv\")).rename({\"yad_no\":\"label_yad_no\"})"
   ]
  },
  {
   "cell_type": "code",
   "execution_count": 11,
   "id": "b7e1eb11-448e-4e0b-887c-25845e1589d5",
   "metadata": {},
   "outputs": [],
   "source": [
    "last_items = train_log.group_by(\"session_id\").last()"
   ]
  },
  {
   "cell_type": "code",
   "execution_count": 12,
   "id": "3475109c-84cd-4b4d-a059-274e0cd673a5",
   "metadata": {},
   "outputs": [],
   "source": [
    "co_visit_matrix = pl.read_parquet(os.path.join(OUTPUT_DIR, \"co_visit_matrix_for_train_or_eval.parquet\"))"
   ]
  },
  {
   "cell_type": "code",
   "execution_count": 13,
   "id": "2029228f-9bc1-489d-a291-7dfdf344d4ce",
   "metadata": {},
   "outputs": [],
   "source": [
    "prediction = last_items \\\n",
    "    .join(co_visit_matrix, on=\"yad_no\", how=\"left\") \\\n",
    "    .join(train_label, on=\"session_id\", how=\"left\") \\\n",
    "    .sort([\"session_id\", \"co_visit_weight_rank\"], descending=[False, False]) \\\n",
    "    .with_columns((pl.col(\"candidate_yad_no\") == pl.col(\"label_yad_no\")).cast(pl.Int8).alias(\"user_relevance\")) \\\n",
    "    .fill_null(0)"
   ]
  },
  {
   "cell_type": "code",
   "execution_count": 14,
   "id": "f5ca022a-2984-42ce-8cbd-eb426c7cf081",
   "metadata": {},
   "outputs": [],
   "source": [
    "user_relevances = prediction.group_by(\"session_id\", maintain_order=True).all()[\"user_relevance\"].to_list()"
   ]
  },
  {
   "cell_type": "code",
   "execution_count": 15,
   "id": "dce91a9c-e67a-4f9b-8251-8825d4d8ed44",
   "metadata": {},
   "outputs": [
    {
     "data": {
      "text/plain": [
       "0.2160277568573609"
      ]
     },
     "execution_count": 15,
     "metadata": {},
     "output_type": "execute_result"
    }
   ],
   "source": [
    "map_at_k(user_relevances, 10)"
   ]
  },
  {
   "cell_type": "markdown",
   "id": "d38d2dcb-d08b-4512-ae8c-99b312cd17cc",
   "metadata": {},
   "source": [
    "# For test"
   ]
  },
  {
   "cell_type": "code",
   "execution_count": 16,
   "id": "5c3f3672-b7c1-4588-8129-b0428d8f4c10",
   "metadata": {},
   "outputs": [],
   "source": [
    "train_log = pl.read_csv(os.path.join(INPUT_DIR, \"train_log.csv\"))\n",
    "train_label = pl.read_csv(os.path.join(INPUT_DIR, \"train_label.csv\"))\n",
    "test_log = pl.read_csv(os.path.join(INPUT_DIR, \"test_log.csv\"))"
   ]
  },
  {
   "cell_type": "code",
   "execution_count": 17,
   "id": "f6aa87c7-5892-4368-ac79-34eca4ce2287",
   "metadata": {},
   "outputs": [],
   "source": [
    "# trainのlabelをlogにappendする\n",
    "\n",
    "prev_items_list = (\n",
    "    train_log\n",
    "    .sort([\"session_id\", \"seq_no\"])\n",
    "    .group_by(\"session_id\", maintain_order=True)\n",
    "    .agg(pl.col(\"yad_no\"))\n",
    ")[\"yad_no\"].to_list()\n",
    "\n",
    "next_item_list = (\n",
    "    train_label\n",
    "    .sort(\"session_id\")\n",
    ")[\"yad_no\"].to_list()\n",
    "\n",
    "prev_items_list_updated = []\n",
    "for prev_items, next_item in zip(prev_items_list, next_item_list):\n",
    "    prev_items.append(next_item)\n",
    "    prev_items_list_updated.append(prev_items)\n",
    "\n",
    "train_log = train_label.with_columns(\n",
    "    pl.Series(name=\"prev_items\", values=prev_items_list_updated)\n",
    ")\n",
    "\n",
    "train_log = explode_and_add_seq_no(train_log) \\\n",
    "    .drop(\"yad_no\") \\\n",
    "    .rename({\"prev_items\" : \"yad_no\"}) \\\n",
    "    [[\"session_id\", \"seq_no\", \"yad_no\"]] # カラム並び替え"
   ]
  },
  {
   "cell_type": "code",
   "execution_count": 18,
   "id": "9b07f3a0-7312-4e76-ac4b-f4465f4d3146",
   "metadata": {},
   "outputs": [],
   "source": [
    "log = pl.concat([train_log, test_log], how=\"vertical\")"
   ]
  },
  {
   "cell_type": "code",
   "execution_count": 19,
   "id": "89975755-6b86-4274-bd2a-35a675c0bc3c",
   "metadata": {},
   "outputs": [],
   "source": [
    "co_visit_matrix = generate_co_visit_matrix(log, window_n=WINDOW_N, weights=WEIGHTS)"
   ]
  },
  {
   "cell_type": "code",
   "execution_count": 20,
   "id": "b481cc0b-3598-471b-9064-88df52e7e636",
   "metadata": {},
   "outputs": [],
   "source": [
    "co_visit_matrix.write_parquet(os.path.join(OUTPUT_DIR, \"co_visit_matrix_for_test.parquet\"))"
   ]
  },
  {
   "cell_type": "code",
   "execution_count": 21,
   "id": "0d2d7a3c-6a8a-4457-a6ef-6aa93933891c",
   "metadata": {},
   "outputs": [
    {
     "data": {
      "text/html": [
       "<div><style>\n",
       ".dataframe > thead > tr > th,\n",
       ".dataframe > tbody > tr > td {\n",
       "  text-align: right;\n",
       "  white-space: pre-wrap;\n",
       "}\n",
       "</style>\n",
       "<small>shape: (5, 3)</small><table border=\"1\" class=\"dataframe\"><thead><tr><th>yad_no</th><th>candidate_yad_no</th><th>co_visit_weight_rank</th></tr><tr><td>i64</td><td>i64</td><td>f64</td></tr></thead><tbody><tr><td>6868</td><td>4823</td><td>1.5</td></tr><tr><td>13106</td><td>10362</td><td>4.0</td></tr><tr><td>8833</td><td>8322</td><td>24.5</td></tr><tr><td>3079</td><td>7920</td><td>64.0</td></tr><tr><td>13120</td><td>7725</td><td>2.0</td></tr></tbody></table></div>"
      ],
      "text/plain": [
       "shape: (5, 3)\n",
       "┌────────┬──────────────────┬──────────────────────┐\n",
       "│ yad_no ┆ candidate_yad_no ┆ co_visit_weight_rank │\n",
       "│ ---    ┆ ---              ┆ ---                  │\n",
       "│ i64    ┆ i64              ┆ f64                  │\n",
       "╞════════╪══════════════════╪══════════════════════╡\n",
       "│ 6868   ┆ 4823             ┆ 1.5                  │\n",
       "│ 13106  ┆ 10362            ┆ 4.0                  │\n",
       "│ 8833   ┆ 8322             ┆ 24.5                 │\n",
       "│ 3079   ┆ 7920             ┆ 64.0                 │\n",
       "│ 13120  ┆ 7725             ┆ 2.0                  │\n",
       "└────────┴──────────────────┴──────────────────────┘"
      ]
     },
     "execution_count": 21,
     "metadata": {},
     "output_type": "execute_result"
    }
   ],
   "source": [
    "co_visit_matrix.head()"
   ]
  },
  {
   "cell_type": "code",
   "execution_count": null,
   "id": "63d9b3c9-079f-42ee-9638-58e8fecb647d",
   "metadata": {},
   "outputs": [],
   "source": []
  }
 ],
 "metadata": {
  "kernelspec": {
   "display_name": "Python 3 (ipykernel)",
   "language": "python",
   "name": "python3"
  },
  "language_info": {
   "codemirror_mode": {
    "name": "ipython",
    "version": 3
   },
   "file_extension": ".py",
   "mimetype": "text/x-python",
   "name": "python",
   "nbconvert_exporter": "python",
   "pygments_lexer": "ipython3",
   "version": "3.10.12"
  }
 },
 "nbformat": 4,
 "nbformat_minor": 5
}
