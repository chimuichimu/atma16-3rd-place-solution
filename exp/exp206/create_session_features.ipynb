{
 "cells": [
  {
   "cell_type": "code",
   "execution_count": 1,
   "id": "224d7aae-6a29-4aea-bee3-5f7b74b25f23",
   "metadata": {},
   "outputs": [],
   "source": [
    "import os\n",
    "\n",
    "import polars as pl"
   ]
  },
  {
   "cell_type": "code",
   "execution_count": 2,
   "id": "141f88d9-ed1d-449f-a8e2-1bfdafaa2d2a",
   "metadata": {},
   "outputs": [],
   "source": [
    "INPUT_DIR = \"../../input/raw/\"\n",
    "OUTPUT_DIR = \"./features/\""
   ]
  },
  {
   "cell_type": "markdown",
   "id": "bf5337cf-fa92-41d7-ab70-417fb0468220",
   "metadata": {},
   "source": [
    "# セッション特徴量"
   ]
  },
  {
   "cell_type": "code",
   "execution_count": 3,
   "id": "6420c223-b46b-4bbd-817b-c70ae33fc726",
   "metadata": {},
   "outputs": [],
   "source": [
    "def generate_session_features(log: pl.DataFrame, item: pl.DataFrame) -> pl.DataFrame:\n",
    "    df = log.join(item, on=\"yad_no\", how=\"left\")\n",
    "\n",
    "    session_feat_df = df.group_by(\"session_id\").first()[[\"session_id\"]]\n",
    "\n",
    "    # セッション数\n",
    "    session_feat_df = session_feat_df.join(\n",
    "        df.group_by(\"session_id\").agg(pl.count()).rename({\"count\":\"S_session_length\"}),\n",
    "        on=\"session_id\",\n",
    "        how=\"left\"\n",
    "    )\n",
    "\n",
    "    # 各セッションのユニーク特徴量\n",
    "    session_feat_df = session_feat_df.join(\n",
    "        df.group_by(\"session_id\").n_unique()[[\"session_id\", \"yad_no\", \"yad_type\", \"wid_cd\", \"ken_cd\", \"lrg_cd\", \"sml_cd\"]].rename(\n",
    "            {\n",
    "                \"yad_no\":\"S_nunique_item\",\n",
    "                \"yad_type\":\"S_nunique_yad_type\",\n",
    "                \"wid_cd\":\"S_nunique_wid_cd\",\n",
    "                \"ken_cd\":\"S_nunique_ken_cd\",\n",
    "                \"lrg_cd\":\"S_nunique_lrg_cd\",\n",
    "                \"sml_cd\":\"S_nunique_sml_cd\",\n",
    "            }\n",
    "        ),\n",
    "        on=\"session_id\",\n",
    "        how=\"left\"\n",
    "    )\n",
    "\n",
    "    # 宿のルーム数の統計量\n",
    "    session_feat_df = session_feat_df.join(\n",
    "        df.group_by(\"session_id\").agg(\n",
    "            pl.col(\"total_room_cnt\").mean().alias(\"S_mean_room_cnt\"),\n",
    "            pl.col(\"total_room_cnt\").max().alias(\"S_max_room_cnt\"),\n",
    "            pl.col(\"total_room_cnt\").min().alias(\"S_min_room_cnt\"),\n",
    "            pl.col(\"total_room_cnt\").std().alias(\"S_std_room_cnt\"),\n",
    "            pl.col(\"total_room_cnt\").sum().alias(\"S_total_room_cnt\"),\n",
    "        ),\n",
    "        on=\"session_id\",\n",
    "        how=\"left\"\n",
    "    )    \n",
    "\n",
    "    # 各セッションの再予約率\n",
    "    session_feat_df = session_feat_df.with_columns(\n",
    "        ((pl.col(\"S_session_length\") - pl.col(\"S_nunique_item\")) / pl.col(\"S_session_length\")).alias(\"S_ratio_repurchase\")\n",
    "    )\n",
    "\n",
    "    # 直近3回の商品情報\n",
    "    last_ns = [1, 2, 3]\n",
    "    for last_n in last_ns:\n",
    "        last_n_df = df.filter(pl.col(\"seq_no\") == last_n-1)\n",
    "        last_n_df = last_n_df[[\"session_id\", \"wireless_lan_flg\", \"onsen_flg\", \"kd_stn_5min\", \"kd_bch_5min\", \"kd_slp_5min\", \"kd_conv_walk_5min\", \"wid_cd\", \"ken_cd\", \"lrg_cd\", \"sml_cd\"]]\n",
    "        last_n_df = last_n_df.rename({\n",
    "            \"wireless_lan_flg\":f\"S_wireless_lan_flg_last{last_n}\",\n",
    "            \"onsen_flg\":f\"S_onsen_flg_last{last_n}\",\n",
    "            \"kd_stn_5min\":f\"S_kd_stn_5min_last{last_n}\",\n",
    "            \"kd_bch_5min\":f\"S_kd_bch_5min_last{last_n}\",\n",
    "            \"kd_slp_5min\":f\"S_kd_slp_5min_last{last_n}\",\n",
    "            \"kd_conv_walk_5min\":f\"S_kd_conv_walk_5min_last{last_n}\",\n",
    "            \"wid_cd\":f\"S_wid_cd_last{last_n}\",\n",
    "            \"ken_cd\":f\"S_ken_cd_last{last_n}\",\n",
    "            \"lrg_cd\":f\"S_lrg_cd_last{last_n}\",\n",
    "            \"sml_cd\":f\"S_sml_cd_last{last_n}\",\n",
    "        })\n",
    "        session_feat_df = session_feat_df.join(last_n_df, on=\"session_id\", how=\"left\")\n",
    "\n",
    "    return session_feat_df"
   ]
  },
  {
   "cell_type": "code",
   "execution_count": 4,
   "id": "563ce188-f449-4370-b8a3-09a5246157ab",
   "metadata": {},
   "outputs": [],
   "source": [
    "item = pl.read_csv(os.path.join(INPUT_DIR, \"yado.csv\"))\n",
    "train_log = pl.read_csv(os.path.join(INPUT_DIR, \"train_log.csv\"))\n",
    "train_label = pl.read_csv(os.path.join(INPUT_DIR, \"train_label.csv\"))\n",
    "test_log = pl.read_csv(os.path.join(INPUT_DIR, \"test_log.csv\"))"
   ]
  },
  {
   "cell_type": "code",
   "execution_count": 5,
   "id": "87a78a76-6219-4c3d-914d-ee9df420ef3f",
   "metadata": {},
   "outputs": [],
   "source": [
    "train_session_feat = generate_session_features(train_log, item)\n",
    "train_session_feat.write_parquet(os.path.join(OUTPUT_DIR, \"session_feat_for_train_or_eval.parquet\"))"
   ]
  },
  {
   "cell_type": "code",
   "execution_count": 6,
   "id": "7deed5be-d521-4eb3-a9c3-61ae12e818be",
   "metadata": {},
   "outputs": [],
   "source": [
    "test_session_feat = generate_session_features(test_log, item)\n",
    "test_session_feat.write_parquet(os.path.join(OUTPUT_DIR, \"session_feat_for_test.parquet\"))"
   ]
  },
  {
   "cell_type": "code",
   "execution_count": null,
   "id": "eeb022ca-acd5-40ea-8335-dea0a08325d7",
   "metadata": {},
   "outputs": [],
   "source": []
  }
 ],
 "metadata": {
  "kernelspec": {
   "display_name": "Python 3 (ipykernel)",
   "language": "python",
   "name": "python3"
  },
  "language_info": {
   "codemirror_mode": {
    "name": "ipython",
    "version": 3
   },
   "file_extension": ".py",
   "mimetype": "text/x-python",
   "name": "python",
   "nbconvert_exporter": "python",
   "pygments_lexer": "ipython3",
   "version": "3.10.12"
  }
 },
 "nbformat": 4,
 "nbformat_minor": 5
}
