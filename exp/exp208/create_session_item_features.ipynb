{
 "cells": [
  {
   "cell_type": "code",
   "execution_count": 1,
   "id": "224d7aae-6a29-4aea-bee3-5f7b74b25f23",
   "metadata": {},
   "outputs": [],
   "source": [
    "import os\n",
    "\n",
    "import polars as pl"
   ]
  },
  {
   "cell_type": "code",
   "execution_count": 2,
   "id": "141f88d9-ed1d-449f-a8e2-1bfdafaa2d2a",
   "metadata": {},
   "outputs": [],
   "source": [
    "INPUT_DIR = \"../../input/raw/\"\n",
    "OUTPUT_DIR = \"./features/\""
   ]
  },
  {
   "cell_type": "markdown",
   "id": "bf5337cf-fa92-41d7-ab70-417fb0468220",
   "metadata": {},
   "source": [
    "# セッション * アイテム特徴量"
   ]
  },
  {
   "cell_type": "code",
   "execution_count": 3,
   "id": "6420c223-b46b-4bbd-817b-c70ae33fc726",
   "metadata": {},
   "outputs": [],
   "source": [
    "def generate_session_item_features(log: pl.DataFrame, item: pl.DataFrame) -> pl.DataFrame:\n",
    "    df = log.join(item, on=\"yad_no\", how=\"left\")\n",
    "    session_item_feat_df = df.group_by([\"session_id\", \"yad_no\"]).first()[[\"session_id\", \"yad_no\"]]\n",
    "\n",
    "    # セッション内でそのアイテムが何回インタラクトされたか\n",
    "    session_item_feat_df = session_item_feat_df.join(\n",
    "        df.group_by([\"session_id\", \"yad_no\"]).agg(pl.count()).rename({\"count\":\"SP_interact_count\"}),\n",
    "        on=[\"session_id\", \"yad_no\"],\n",
    "        how=\"left\"\n",
    "    )\n",
    "\n",
    "    return session_item_feat_df"
   ]
  },
  {
   "cell_type": "code",
   "execution_count": 4,
   "id": "563ce188-f449-4370-b8a3-09a5246157ab",
   "metadata": {},
   "outputs": [],
   "source": [
    "item = pl.read_csv(os.path.join(INPUT_DIR, \"yado.csv\"))\n",
    "train_log = pl.read_csv(os.path.join(INPUT_DIR, \"train_log.csv\"))\n",
    "train_label = pl.read_csv(os.path.join(INPUT_DIR, \"train_label.csv\"))\n",
    "test_log = pl.read_csv(os.path.join(INPUT_DIR, \"test_log.csv\"))"
   ]
  },
  {
   "cell_type": "code",
   "execution_count": 5,
   "id": "87a78a76-6219-4c3d-914d-ee9df420ef3f",
   "metadata": {},
   "outputs": [],
   "source": [
    "train_session_feat = generate_session_item_features(train_log, item)\n",
    "train_session_feat.write_parquet(os.path.join(OUTPUT_DIR, \"session_product_feat_for_train_or_eval.parquet\"))"
   ]
  },
  {
   "cell_type": "code",
   "execution_count": 6,
   "id": "7deed5be-d521-4eb3-a9c3-61ae12e818be",
   "metadata": {},
   "outputs": [],
   "source": [
    "test_session_feat = generate_session_item_features(test_log, item)\n",
    "test_session_feat.write_parquet(os.path.join(OUTPUT_DIR, \"session_product_feat_for_test.parquet\"))"
   ]
  },
  {
   "cell_type": "code",
   "execution_count": 7,
   "id": "eeb022ca-acd5-40ea-8335-dea0a08325d7",
   "metadata": {},
   "outputs": [
    {
     "data": {
      "text/html": [
       "<div><style>\n",
       ".dataframe > thead > tr > th,\n",
       ".dataframe > tbody > tr > td {\n",
       "  text-align: right;\n",
       "  white-space: pre-wrap;\n",
       "}\n",
       "</style>\n",
       "<small>shape: (9, 4)</small><table border=\"1\" class=\"dataframe\"><thead><tr><th>describe</th><th>session_id</th><th>yad_no</th><th>SP_interact_count</th></tr><tr><td>str</td><td>str</td><td>f64</td><td>f64</td></tr></thead><tbody><tr><td>&quot;count&quot;</td><td>&quot;398151&quot;</td><td>398151.0</td><td>398151.0</td></tr><tr><td>&quot;null_count&quot;</td><td>&quot;0&quot;</td><td>0.0</td><td>0.0</td></tr><tr><td>&quot;mean&quot;</td><td>null</td><td>6882.219786</td><td>1.053043</td></tr><tr><td>&quot;std&quot;</td><td>null</td><td>4017.078827</td><td>0.240864</td></tr><tr><td>&quot;min&quot;</td><td>&quot;000007603d533d…</td><td>2.0</td><td>1.0</td></tr><tr><td>&quot;25%&quot;</td><td>null</td><td>3338.0</td><td>1.0</td></tr><tr><td>&quot;50%&quot;</td><td>null</td><td>6874.0</td><td>1.0</td></tr><tr><td>&quot;75%&quot;</td><td>null</td><td>10350.0</td><td>1.0</td></tr><tr><td>&quot;max&quot;</td><td>&quot;fffffa7baf3700…</td><td>13806.0</td><td>5.0</td></tr></tbody></table></div>"
      ],
      "text/plain": [
       "shape: (9, 4)\n",
       "┌────────────┬──────────────────────────────────┬─────────────┬───────────────────┐\n",
       "│ describe   ┆ session_id                       ┆ yad_no      ┆ SP_interact_count │\n",
       "│ ---        ┆ ---                              ┆ ---         ┆ ---               │\n",
       "│ str        ┆ str                              ┆ f64         ┆ f64               │\n",
       "╞════════════╪══════════════════════════════════╪═════════════╪═══════════════════╡\n",
       "│ count      ┆ 398151                           ┆ 398151.0    ┆ 398151.0          │\n",
       "│ null_count ┆ 0                                ┆ 0.0         ┆ 0.0               │\n",
       "│ mean       ┆ null                             ┆ 6882.219786 ┆ 1.053043          │\n",
       "│ std        ┆ null                             ┆ 4017.078827 ┆ 0.240864          │\n",
       "│ min        ┆ 000007603d533d30453cc45d0f3d119f ┆ 2.0         ┆ 1.0               │\n",
       "│ 25%        ┆ null                             ┆ 3338.0      ┆ 1.0               │\n",
       "│ 50%        ┆ null                             ┆ 6874.0      ┆ 1.0               │\n",
       "│ 75%        ┆ null                             ┆ 10350.0     ┆ 1.0               │\n",
       "│ max        ┆ fffffa7baf370083ebcdd98f26a7e31a ┆ 13806.0     ┆ 5.0               │\n",
       "└────────────┴──────────────────────────────────┴─────────────┴───────────────────┘"
      ]
     },
     "execution_count": 7,
     "metadata": {},
     "output_type": "execute_result"
    }
   ],
   "source": [
    "train_session_feat.describe()"
   ]
  },
  {
   "cell_type": "code",
   "execution_count": 8,
   "id": "c10d66e9-bdcc-4d21-8c06-e489f218322d",
   "metadata": {},
   "outputs": [
    {
     "data": {
      "text/html": [
       "<div><style>\n",
       ".dataframe > thead > tr > th,\n",
       ".dataframe > tbody > tr > td {\n",
       "  text-align: right;\n",
       "  white-space: pre-wrap;\n",
       "}\n",
       "</style>\n",
       "<small>shape: (5, 3)</small><table border=\"1\" class=\"dataframe\"><thead><tr><th>SP_interact_count</th><th>counts</th><th>proportion</th></tr><tr><td>u32</td><td>u32</td><td>f64</td></tr></thead><tbody><tr><td>3</td><td>1199</td><td>0.003011</td></tr><tr><td>5</td><td>6</td><td>0.000015</td></tr><tr><td>1</td><td>378459</td><td>0.950541</td></tr><tr><td>2</td><td>18382</td><td>0.046168</td></tr><tr><td>4</td><td>105</td><td>0.000264</td></tr></tbody></table></div>"
      ],
      "text/plain": [
       "shape: (5, 3)\n",
       "┌───────────────────┬────────┬────────────┐\n",
       "│ SP_interact_count ┆ counts ┆ proportion │\n",
       "│ ---               ┆ ---    ┆ ---        │\n",
       "│ u32               ┆ u32    ┆ f64        │\n",
       "╞═══════════════════╪════════╪════════════╡\n",
       "│ 3                 ┆ 1199   ┆ 0.003011   │\n",
       "│ 5                 ┆ 6      ┆ 0.000015   │\n",
       "│ 1                 ┆ 378459 ┆ 0.950541   │\n",
       "│ 2                 ┆ 18382  ┆ 0.046168   │\n",
       "│ 4                 ┆ 105    ┆ 0.000264   │\n",
       "└───────────────────┴────────┴────────────┘"
      ]
     },
     "execution_count": 8,
     "metadata": {},
     "output_type": "execute_result"
    }
   ],
   "source": [
    "train_session_feat[\"SP_interact_count\"].value_counts().with_columns((pl.col(\"counts\") / len(train_session_feat)).alias(\"proportion\"))"
   ]
  },
  {
   "cell_type": "code",
   "execution_count": 9,
   "id": "af609450-e05f-4344-aa6e-5367772eb0e9",
   "metadata": {},
   "outputs": [
    {
     "data": {
      "text/html": [
       "<div><style>\n",
       ".dataframe > thead > tr > th,\n",
       ".dataframe > tbody > tr > td {\n",
       "  text-align: right;\n",
       "  white-space: pre-wrap;\n",
       "}\n",
       "</style>\n",
       "<small>shape: (9, 4)</small><table border=\"1\" class=\"dataframe\"><thead><tr><th>describe</th><th>session_id</th><th>yad_no</th><th>SP_interact_count</th></tr><tr><td>str</td><td>str</td><td>f64</td><td>f64</td></tr></thead><tbody><tr><td>&quot;count&quot;</td><td>&quot;238096&quot;</td><td>238096.0</td><td>238096.0</td></tr><tr><td>&quot;null_count&quot;</td><td>&quot;0&quot;</td><td>0.0</td><td>0.0</td></tr><tr><td>&quot;mean&quot;</td><td>null</td><td>6860.822231</td><td>1.051278</td></tr><tr><td>&quot;std&quot;</td><td>null</td><td>3983.6658</td><td>0.235144</td></tr><tr><td>&quot;min&quot;</td><td>&quot;00001149e9c739…</td><td>1.0</td><td>1.0</td></tr><tr><td>&quot;25%&quot;</td><td>null</td><td>3362.0</td><td>1.0</td></tr><tr><td>&quot;50%&quot;</td><td>null</td><td>6844.0</td><td>1.0</td></tr><tr><td>&quot;75%&quot;</td><td>null</td><td>10312.0</td><td>1.0</td></tr><tr><td>&quot;max&quot;</td><td>&quot;ffffe984aafd61…</td><td>13806.0</td><td>4.0</td></tr></tbody></table></div>"
      ],
      "text/plain": [
       "shape: (9, 4)\n",
       "┌────────────┬──────────────────────────────────┬─────────────┬───────────────────┐\n",
       "│ describe   ┆ session_id                       ┆ yad_no      ┆ SP_interact_count │\n",
       "│ ---        ┆ ---                              ┆ ---         ┆ ---               │\n",
       "│ str        ┆ str                              ┆ f64         ┆ f64               │\n",
       "╞════════════╪══════════════════════════════════╪═════════════╪═══════════════════╡\n",
       "│ count      ┆ 238096                           ┆ 238096.0    ┆ 238096.0          │\n",
       "│ null_count ┆ 0                                ┆ 0.0         ┆ 0.0               │\n",
       "│ mean       ┆ null                             ┆ 6860.822231 ┆ 1.051278          │\n",
       "│ std        ┆ null                             ┆ 3983.6658   ┆ 0.235144          │\n",
       "│ min        ┆ 00001149e9c73985425197104712478c ┆ 1.0         ┆ 1.0               │\n",
       "│ 25%        ┆ null                             ┆ 3362.0      ┆ 1.0               │\n",
       "│ 50%        ┆ null                             ┆ 6844.0      ┆ 1.0               │\n",
       "│ 75%        ┆ null                             ┆ 10312.0     ┆ 1.0               │\n",
       "│ max        ┆ ffffe984aafd6127ce8e43e3ca40c79d ┆ 13806.0     ┆ 4.0               │\n",
       "└────────────┴──────────────────────────────────┴─────────────┴───────────────────┘"
      ]
     },
     "execution_count": 9,
     "metadata": {},
     "output_type": "execute_result"
    }
   ],
   "source": [
    "test_session_feat.describe()"
   ]
  },
  {
   "cell_type": "code",
   "execution_count": 10,
   "id": "521e6ae5-f2ac-4761-bb8e-666b29bd14ef",
   "metadata": {},
   "outputs": [
    {
     "data": {
      "text/html": [
       "<div><style>\n",
       ".dataframe > thead > tr > th,\n",
       ".dataframe > tbody > tr > td {\n",
       "  text-align: right;\n",
       "  white-space: pre-wrap;\n",
       "}\n",
       "</style>\n",
       "<small>shape: (4, 3)</small><table border=\"1\" class=\"dataframe\"><thead><tr><th>SP_interact_count</th><th>counts</th><th>proportion</th></tr><tr><td>u32</td><td>u32</td><td>f64</td></tr></thead><tbody><tr><td>2</td><td>10735</td><td>0.045087</td></tr><tr><td>1</td><td>226642</td><td>0.951893</td></tr><tr><td>3</td><td>683</td><td>0.002869</td></tr><tr><td>4</td><td>36</td><td>0.000151</td></tr></tbody></table></div>"
      ],
      "text/plain": [
       "shape: (4, 3)\n",
       "┌───────────────────┬────────┬────────────┐\n",
       "│ SP_interact_count ┆ counts ┆ proportion │\n",
       "│ ---               ┆ ---    ┆ ---        │\n",
       "│ u32               ┆ u32    ┆ f64        │\n",
       "╞═══════════════════╪════════╪════════════╡\n",
       "│ 2                 ┆ 10735  ┆ 0.045087   │\n",
       "│ 1                 ┆ 226642 ┆ 0.951893   │\n",
       "│ 3                 ┆ 683    ┆ 0.002869   │\n",
       "│ 4                 ┆ 36     ┆ 0.000151   │\n",
       "└───────────────────┴────────┴────────────┘"
      ]
     },
     "execution_count": 10,
     "metadata": {},
     "output_type": "execute_result"
    }
   ],
   "source": [
    "test_session_feat[\"SP_interact_count\"].value_counts().with_columns((pl.col(\"counts\") / len(test_session_feat)).alias(\"proportion\"))"
   ]
  },
  {
   "cell_type": "code",
   "execution_count": null,
   "id": "dd698815-7d60-43a7-81fb-fb02f996222e",
   "metadata": {},
   "outputs": [],
   "source": []
  }
 ],
 "metadata": {
  "kernelspec": {
   "display_name": "Python 3 (ipykernel)",
   "language": "python",
   "name": "python3"
  },
  "language_info": {
   "codemirror_mode": {
    "name": "ipython",
    "version": 3
   },
   "file_extension": ".py",
   "mimetype": "text/x-python",
   "name": "python",
   "nbconvert_exporter": "python",
   "pygments_lexer": "ipython3",
   "version": "3.10.12"
  }
 },
 "nbformat": 4,
 "nbformat_minor": 5
}
