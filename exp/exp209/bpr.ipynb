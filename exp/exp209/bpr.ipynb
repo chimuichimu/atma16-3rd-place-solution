{
 "cells": [
  {
   "cell_type": "markdown",
   "id": "8efcce1a-165a-4a5b-aa5b-1b0d0c4a23c1",
   "metadata": {},
   "source": [
    "# Setting"
   ]
  },
  {
   "cell_type": "code",
   "execution_count": 1,
   "id": "834080b3-b512-42d2-84db-b52a7d588105",
   "metadata": {},
   "outputs": [
    {
     "name": "stdout",
     "output_type": "stream",
     "text": [
      "Requirement already satisfied: implicit in /opt/conda/lib/python3.10/site-packages (0.7.2)\n",
      "Requirement already satisfied: numpy>=1.17.0 in /opt/conda/lib/python3.10/site-packages (from implicit) (1.23.5)\n",
      "Requirement already satisfied: scipy>=0.16 in /opt/conda/lib/python3.10/site-packages (from implicit) (1.11.2)\n",
      "Requirement already satisfied: tqdm>=4.27 in /opt/conda/lib/python3.10/site-packages (from implicit) (4.66.1)\n",
      "Requirement already satisfied: threadpoolctl in /opt/conda/lib/python3.10/site-packages (from implicit) (3.1.0)\n",
      "\u001b[33mWARNING: Error parsing requirements for notebook: [Errno 2] No such file or directory: '/opt/conda/lib/python3.10/site-packages/notebook-6.5.4.dist-info/METADATA'\u001b[0m\u001b[33m\n",
      "\u001b[0m"
     ]
    }
   ],
   "source": [
    "!pip install implicit"
   ]
  },
  {
   "cell_type": "code",
   "execution_count": 2,
   "id": "7c076122-4690-4781-a486-e699bed02d69",
   "metadata": {},
   "outputs": [
    {
     "name": "stderr",
     "output_type": "stream",
     "text": [
      "/opt/conda/lib/python3.10/site-packages/scipy/__init__.py:146: UserWarning: A NumPy version >=1.16.5 and <1.23.0 is required for this version of SciPy (detected version 1.23.5\n",
      "  warnings.warn(f\"A NumPy version >={np_minversion} and <{np_maxversion}\"\n",
      "/opt/conda/lib/python3.10/site-packages/implicit/gpu/__init__.py:13: UserWarning: CUDA extension is built, but disabling GPU support because of 'Cuda Error: CUDA driver version is insufficient for CUDA runtime version (/project/./implicit/gpu/utils.h:71)'\n",
      "  warnings.warn(\n"
     ]
    }
   ],
   "source": [
    "import os\n",
    "from typing import List, Dict, Union\n",
    "import pickle\n",
    "\n",
    "import pandas as pd\n",
    "import polars as pl\n",
    "import implicit\n",
    "from scipy.sparse import lil_matrix\n",
    "from tqdm import tqdm\n",
    "\n",
    "from scripts.metrics import map_at_k"
   ]
  },
  {
   "cell_type": "code",
   "execution_count": 3,
   "id": "298c78ad-edda-49c1-a972-842d08660152",
   "metadata": {},
   "outputs": [],
   "source": [
    "INPUT_DIR = \"../../input/raw/\"\n",
    "CANDIDATE_DIR = \"./candidates/\"\n",
    "FEATURE_DIR = \"./features/\"\n",
    "\n",
    "TOP_N = 10\n",
    "\n",
    "# parameters for BPR\n",
    "FACTORS = 200\n",
    "LAMBDA = 0.075\n",
    "ITERATIONS = 2000\n",
    "SEED = 42"
   ]
  },
  {
   "cell_type": "code",
   "execution_count": 4,
   "id": "8b3bbee0-2cf3-4ee0-a0fb-86b114b24669",
   "metadata": {},
   "outputs": [],
   "source": [
    "def explode_and_add_seq_no(df:pl.DataFrame) -> pl.DataFrame:\n",
    "    df = df.explode([\"prev_items\"])\n",
    "    df = df.with_columns(\n",
    "        df.select(pl.col(\"session_id\").cumcount().over(\"session_id\").alias(\"seq_no\").cast(pl.Int64))\n",
    "    )\n",
    "    return df"
   ]
  },
  {
   "cell_type": "code",
   "execution_count": 5,
   "id": "f51f82be-de47-4828-a787-cf6df7be48cf",
   "metadata": {},
   "outputs": [],
   "source": [
    "def train_imf_and_generate_candidates(df:pd.DataFrame):\n",
    "    # generate sparse matrix\n",
    "    unique_user_ids = sorted(df[\"session_id\"].unique())\n",
    "    unique_item_ids = sorted(df[\"yad_no\"].unique())\n",
    "    user_id2index = dict(zip(unique_user_ids, range(len(unique_user_ids))))\n",
    "    item_id2index = dict(zip(unique_item_ids, range(len(unique_item_ids))))\n",
    "\n",
    "    matrix = lil_matrix((len(unique_user_ids), len(unique_item_ids)))\n",
    "    for _, row in tqdm(df.iterrows()):\n",
    "        user_index = user_id2index[row[\"session_id\"]]\n",
    "        item_index = item_id2index[row[\"yad_no\"]]\n",
    "        matrix[user_index, item_index] = 1.0\n",
    "\n",
    "    # convert LIL to CSR\n",
    "    matrix = matrix.tocsr()\n",
    "\n",
    "    # model initialization\n",
    "    model = implicit.bpr.BayesianPersonalizedRanking(\n",
    "        factors = FACTORS,\n",
    "        regularization = LAMBDA,\n",
    "        iterations = ITERATIONS,\n",
    "        random_state = SEED,\n",
    "    )\n",
    "\n",
    "    # train model\n",
    "    model.fit(matrix)\n",
    "\n",
    "    # generate candidate\n",
    "    users = []\n",
    "    candidates = []\n",
    "    imf_scores = []\n",
    "\n",
    "    for user_id, user_index in tqdm(user_id2index.items()):\n",
    "        item_indexes, scores = model.recommend(user_index, matrix[user_index], N=TOP_N, filter_already_liked_items=True)\n",
    "        for item_index, score in zip(item_indexes, scores):\n",
    "            users.append(user_id)\n",
    "            candidates.append(unique_item_ids[item_index])\n",
    "            imf_scores.append(score)\n",
    "\n",
    "    candidates = pd.DataFrame({\n",
    "        \"session_id\": users,\n",
    "        \"candidate_yad_no\": candidates,\n",
    "        \"bpr_score\": imf_scores,\n",
    "    })\n",
    "\n",
    "    candidates = pl.from_pandas(candidates)\n",
    "    \n",
    "    candidates = candidates \\\n",
    "    .sort([\"session_id\", \"bpr_score\"], descending=[False, True]) \\\n",
    "    .with_columns(pl.col(\"bpr_score\").rank(descending=True, method=\"min\").over(\"session_id\").alias(\"bpr_rank\"))\n",
    "    candidates = candidates.drop(\"bpr_score\")\n",
    "    \n",
    "    candidates = candidates.to_pandas()\n",
    "\n",
    "    return model, user_id2index, item_id2index, candidates"
   ]
  },
  {
   "cell_type": "markdown",
   "id": "491659c0-7e69-471e-96eb-451c0575d045",
   "metadata": {},
   "source": [
    "# For local train/eval"
   ]
  },
  {
   "cell_type": "code",
   "execution_count": 6,
   "id": "4e35acd2-91b7-4301-823d-65c3593b0e5b",
   "metadata": {},
   "outputs": [],
   "source": [
    "train_log = pl.read_csv(os.path.join(INPUT_DIR, \"train_log.csv\"))\n",
    "test_log = pl.read_csv(os.path.join(INPUT_DIR, \"test_log.csv\"))"
   ]
  },
  {
   "cell_type": "code",
   "execution_count": 7,
   "id": "ec767d0f-9ab5-490b-bebc-874604f0f6e9",
   "metadata": {},
   "outputs": [],
   "source": [
    "log = pl.concat([train_log, test_log], how=\"vertical\")"
   ]
  },
  {
   "cell_type": "code",
   "execution_count": 8,
   "id": "4ba88dd2-9fb4-49b7-aa03-87bb8fb06b14",
   "metadata": {},
   "outputs": [
    {
     "name": "stderr",
     "output_type": "stream",
     "text": [
      "669575it [00:25, 25754.92it/s]\n"
     ]
    },
    {
     "data": {
      "application/vnd.jupyter.widget-view+json": {
       "model_id": "71a106e35117448587d3c93d6ebc7c3a",
       "version_major": 2,
       "version_minor": 0
      },
      "text/plain": [
       "  0%|          | 0/2000 [00:00<?, ?it/s]"
      ]
     },
     "metadata": {},
     "output_type": "display_data"
    },
    {
     "name": "stderr",
     "output_type": "stream",
     "text": [
      "100% 463398/463398 [04:17<00:00, 1800.21it/s]\n"
     ]
    },
    {
     "name": "stdout",
     "output_type": "stream",
     "text": [
      "CPU times: user 58min 17s, sys: 1h 2min 48s, total: 2h 1min 5s\n",
      "Wall time: 7min 15s\n"
     ]
    }
   ],
   "source": [
    "%%time\n",
    "model, user_id2index, item_id2index, candidates = train_imf_and_generate_candidates(log.to_pandas())"
   ]
  },
  {
   "cell_type": "code",
   "execution_count": 9,
   "id": "b23c0379-dd35-4efa-923f-306f10525e8b",
   "metadata": {},
   "outputs": [],
   "source": [
    "# save models\n",
    "model_name = \"bpr_model_for_train_or_eval.npz\"\n",
    "user_ids_name = \"bpr_user_id2index_for_train_or_eval.pickle\"\n",
    "item_ids_name = \"bpr_item_id2index_for_train_or_eval.pickle\"\n",
    "model.save(os.path.join(FEATURE_DIR, model_name))\n",
    "with open(os.path.join(FEATURE_DIR, user_ids_name), \"wb\") as f:\n",
    "    pickle.dump(user_id2index, f)\n",
    "with open(os.path.join(FEATURE_DIR, item_ids_name), \"wb\") as f:\n",
    "    pickle.dump(item_id2index, f)\n",
    "\n",
    "# save candidates\n",
    "candidates.to_parquet(os.path.join(CANDIDATE_DIR, \"bpr_for_train_or_eval.parquet\"))"
   ]
  },
  {
   "cell_type": "code",
   "execution_count": 10,
   "id": "7ecada54-dcfb-43ce-83a1-c084add6e980",
   "metadata": {},
   "outputs": [
    {
     "data": {
      "text/html": [
       "<div>\n",
       "<style scoped>\n",
       "    .dataframe tbody tr th:only-of-type {\n",
       "        vertical-align: middle;\n",
       "    }\n",
       "\n",
       "    .dataframe tbody tr th {\n",
       "        vertical-align: top;\n",
       "    }\n",
       "\n",
       "    .dataframe thead th {\n",
       "        text-align: right;\n",
       "    }\n",
       "</style>\n",
       "<table border=\"1\" class=\"dataframe\">\n",
       "  <thead>\n",
       "    <tr style=\"text-align: right;\">\n",
       "      <th></th>\n",
       "      <th>session_id</th>\n",
       "      <th>candidate_yad_no</th>\n",
       "      <th>bpr_rank</th>\n",
       "    </tr>\n",
       "  </thead>\n",
       "  <tbody>\n",
       "    <tr>\n",
       "      <th>0</th>\n",
       "      <td>000007603d533d30453cc45d0f3d119f</td>\n",
       "      <td>11882</td>\n",
       "      <td>1</td>\n",
       "    </tr>\n",
       "    <tr>\n",
       "      <th>1</th>\n",
       "      <td>000007603d533d30453cc45d0f3d119f</td>\n",
       "      <td>2808</td>\n",
       "      <td>2</td>\n",
       "    </tr>\n",
       "    <tr>\n",
       "      <th>2</th>\n",
       "      <td>000007603d533d30453cc45d0f3d119f</td>\n",
       "      <td>8668</td>\n",
       "      <td>3</td>\n",
       "    </tr>\n",
       "    <tr>\n",
       "      <th>3</th>\n",
       "      <td>000007603d533d30453cc45d0f3d119f</td>\n",
       "      <td>3324</td>\n",
       "      <td>4</td>\n",
       "    </tr>\n",
       "    <tr>\n",
       "      <th>4</th>\n",
       "      <td>000007603d533d30453cc45d0f3d119f</td>\n",
       "      <td>5289</td>\n",
       "      <td>5</td>\n",
       "    </tr>\n",
       "    <tr>\n",
       "      <th>5</th>\n",
       "      <td>000007603d533d30453cc45d0f3d119f</td>\n",
       "      <td>4101</td>\n",
       "      <td>6</td>\n",
       "    </tr>\n",
       "    <tr>\n",
       "      <th>6</th>\n",
       "      <td>000007603d533d30453cc45d0f3d119f</td>\n",
       "      <td>11277</td>\n",
       "      <td>7</td>\n",
       "    </tr>\n",
       "    <tr>\n",
       "      <th>7</th>\n",
       "      <td>000007603d533d30453cc45d0f3d119f</td>\n",
       "      <td>6520</td>\n",
       "      <td>8</td>\n",
       "    </tr>\n",
       "    <tr>\n",
       "      <th>8</th>\n",
       "      <td>000007603d533d30453cc45d0f3d119f</td>\n",
       "      <td>9303</td>\n",
       "      <td>9</td>\n",
       "    </tr>\n",
       "    <tr>\n",
       "      <th>9</th>\n",
       "      <td>000007603d533d30453cc45d0f3d119f</td>\n",
       "      <td>12325</td>\n",
       "      <td>10</td>\n",
       "    </tr>\n",
       "  </tbody>\n",
       "</table>\n",
       "</div>"
      ],
      "text/plain": [
       "                         session_id  candidate_yad_no  bpr_rank\n",
       "0  000007603d533d30453cc45d0f3d119f             11882         1\n",
       "1  000007603d533d30453cc45d0f3d119f              2808         2\n",
       "2  000007603d533d30453cc45d0f3d119f              8668         3\n",
       "3  000007603d533d30453cc45d0f3d119f              3324         4\n",
       "4  000007603d533d30453cc45d0f3d119f              5289         5\n",
       "5  000007603d533d30453cc45d0f3d119f              4101         6\n",
       "6  000007603d533d30453cc45d0f3d119f             11277         7\n",
       "7  000007603d533d30453cc45d0f3d119f              6520         8\n",
       "8  000007603d533d30453cc45d0f3d119f              9303         9\n",
       "9  000007603d533d30453cc45d0f3d119f             12325        10"
      ]
     },
     "execution_count": 10,
     "metadata": {},
     "output_type": "execute_result"
    }
   ],
   "source": [
    "candidates.head(10)"
   ]
  },
  {
   "cell_type": "markdown",
   "id": "1951dcac-0337-46f7-afd2-23f12afe6fdb",
   "metadata": {},
   "source": [
    "# MAP@k=10"
   ]
  },
  {
   "cell_type": "code",
   "execution_count": 11,
   "id": "99b9bacc-af08-4a3c-aa0a-34e38016ec06",
   "metadata": {},
   "outputs": [],
   "source": [
    "train_log = pl.read_csv(os.path.join(INPUT_DIR, \"train_log.csv\"))\n",
    "train_label = pl.read_csv(os.path.join(INPUT_DIR, \"train_label.csv\")).rename({\"yad_no\":\"label_yad_no\"})"
   ]
  },
  {
   "cell_type": "code",
   "execution_count": 12,
   "id": "3475109c-84cd-4b4d-a059-274e0cd673a5",
   "metadata": {},
   "outputs": [],
   "source": [
    "bpr = pl.read_parquet(os.path.join(CANDIDATE_DIR, \"bpr_for_train_or_eval.parquet\"))"
   ]
  },
  {
   "cell_type": "code",
   "execution_count": 13,
   "id": "2029228f-9bc1-489d-a291-7dfdf344d4ce",
   "metadata": {},
   "outputs": [],
   "source": [
    "prediction = train_label \\\n",
    "    .join(bpr, on=\"session_id\", how=\"left\") \\\n",
    "    .sort([\"session_id\", \"bpr_rank\"], descending=[False, False]) \\\n",
    "    .with_columns((pl.col(\"candidate_yad_no\") == pl.col(\"label_yad_no\")).cast(pl.Int8).alias(\"user_relevance\")) \\\n",
    "    .fill_null(0)"
   ]
  },
  {
   "cell_type": "code",
   "execution_count": 14,
   "id": "f5ca022a-2984-42ce-8cbd-eb426c7cf081",
   "metadata": {},
   "outputs": [],
   "source": [
    "user_relevances = prediction.group_by(\"session_id\", maintain_order=True).all()[\"user_relevance\"].to_list()"
   ]
  },
  {
   "cell_type": "code",
   "execution_count": 15,
   "id": "dce91a9c-e67a-4f9b-8251-8825d4d8ed44",
   "metadata": {},
   "outputs": [
    {
     "data": {
      "text/plain": [
       "0.10399960847755776"
      ]
     },
     "execution_count": 15,
     "metadata": {},
     "output_type": "execute_result"
    }
   ],
   "source": [
    "map_at_k(user_relevances, 10)"
   ]
  },
  {
   "cell_type": "markdown",
   "id": "d38d2dcb-d08b-4512-ae8c-99b312cd17cc",
   "metadata": {},
   "source": [
    "# For test"
   ]
  },
  {
   "cell_type": "code",
   "execution_count": 16,
   "id": "5c3f3672-b7c1-4588-8129-b0428d8f4c10",
   "metadata": {},
   "outputs": [],
   "source": [
    "train_log = pl.read_csv(os.path.join(INPUT_DIR, \"train_log.csv\"))\n",
    "train_label = pl.read_csv(os.path.join(INPUT_DIR, \"train_label.csv\"))\n",
    "test_log = pl.read_csv(os.path.join(INPUT_DIR, \"test_log.csv\"))"
   ]
  },
  {
   "cell_type": "code",
   "execution_count": 17,
   "id": "f6aa87c7-5892-4368-ac79-34eca4ce2287",
   "metadata": {},
   "outputs": [],
   "source": [
    "# trainのlabelをlogにappendする\n",
    "\n",
    "prev_items_list = (\n",
    "    train_log\n",
    "    .sort([\"session_id\", \"seq_no\"])\n",
    "    .group_by(\"session_id\", maintain_order=True)\n",
    "    .agg(pl.col(\"yad_no\"))\n",
    ")[\"yad_no\"].to_list()\n",
    "\n",
    "next_item_list = (\n",
    "    train_label\n",
    "    .sort(\"session_id\")\n",
    ")[\"yad_no\"].to_list()\n",
    "\n",
    "prev_items_list_updated = []\n",
    "for prev_items, next_item in zip(prev_items_list, next_item_list):\n",
    "    prev_items.append(next_item)\n",
    "    prev_items_list_updated.append(prev_items)\n",
    "\n",
    "train_log = train_label.with_columns(\n",
    "    pl.Series(name=\"prev_items\", values=prev_items_list_updated)\n",
    ")\n",
    "\n",
    "train_log = explode_and_add_seq_no(train_log) \\\n",
    "    .drop(\"yad_no\") \\\n",
    "    .rename({\"prev_items\" : \"yad_no\"}) \\\n",
    "    [[\"session_id\", \"seq_no\", \"yad_no\"]] # カラム並び替え"
   ]
  },
  {
   "cell_type": "code",
   "execution_count": 18,
   "id": "9b07f3a0-7312-4e76-ac4b-f4465f4d3146",
   "metadata": {},
   "outputs": [],
   "source": [
    "log = pl.concat([train_log, test_log], how=\"vertical\")"
   ]
  },
  {
   "cell_type": "code",
   "execution_count": 19,
   "id": "89975755-6b86-4274-bd2a-35a675c0bc3c",
   "metadata": {},
   "outputs": [
    {
     "name": "stderr",
     "output_type": "stream",
     "text": [
      "958273it [00:35, 26743.29it/s]\n"
     ]
    },
    {
     "data": {
      "application/vnd.jupyter.widget-view+json": {
       "model_id": "fb25f26b4f514a35b6ab5ca3c2ee1e77",
       "version_major": 2,
       "version_minor": 0
      },
      "text/plain": [
       "  0%|          | 0/2000 [00:00<?, ?it/s]"
      ]
     },
     "metadata": {},
     "output_type": "display_data"
    },
    {
     "name": "stderr",
     "output_type": "stream",
     "text": [
      "100% 463398/463398 [03:42<00:00, 2081.33it/s]\n"
     ]
    },
    {
     "name": "stdout",
     "output_type": "stream",
     "text": [
      "CPU times: user 1h 9min 50s, sys: 54min 41s, total: 2h 4min 31s\n",
      "Wall time: 7min 39s\n"
     ]
    }
   ],
   "source": [
    "%%time\n",
    "model, user_id2index, item_id2index, candidates = train_imf_and_generate_candidates(log.to_pandas())"
   ]
  },
  {
   "cell_type": "code",
   "execution_count": 20,
   "id": "b481cc0b-3598-471b-9064-88df52e7e636",
   "metadata": {},
   "outputs": [],
   "source": [
    "# save models\n",
    "model_name = \"bpr_model_for_test.npz\"\n",
    "user_ids_name = \"bpr_user_id2index_for_test.pickle\"\n",
    "item_ids_name = \"bpr_item_id2index_for_test.pickle\"\n",
    "model.save(os.path.join(FEATURE_DIR, model_name))\n",
    "with open(os.path.join(FEATURE_DIR, user_ids_name), \"wb\") as f:\n",
    "    pickle.dump(user_id2index, f)\n",
    "with open(os.path.join(FEATURE_DIR, item_ids_name), \"wb\") as f:\n",
    "    pickle.dump(item_id2index, f)\n",
    "\n",
    "# save candidates\n",
    "candidates.to_parquet(os.path.join(CANDIDATE_DIR, \"bpr_for_test.parquet\"))"
   ]
  },
  {
   "cell_type": "code",
   "execution_count": 21,
   "id": "0d2d7a3c-6a8a-4457-a6ef-6aa93933891c",
   "metadata": {},
   "outputs": [
    {
     "data": {
      "text/html": [
       "<div>\n",
       "<style scoped>\n",
       "    .dataframe tbody tr th:only-of-type {\n",
       "        vertical-align: middle;\n",
       "    }\n",
       "\n",
       "    .dataframe tbody tr th {\n",
       "        vertical-align: top;\n",
       "    }\n",
       "\n",
       "    .dataframe thead th {\n",
       "        text-align: right;\n",
       "    }\n",
       "</style>\n",
       "<table border=\"1\" class=\"dataframe\">\n",
       "  <thead>\n",
       "    <tr style=\"text-align: right;\">\n",
       "      <th></th>\n",
       "      <th>session_id</th>\n",
       "      <th>candidate_yad_no</th>\n",
       "      <th>bpr_rank</th>\n",
       "    </tr>\n",
       "  </thead>\n",
       "  <tbody>\n",
       "    <tr>\n",
       "      <th>0</th>\n",
       "      <td>000007603d533d30453cc45d0f3d119f</td>\n",
       "      <td>2808</td>\n",
       "      <td>1</td>\n",
       "    </tr>\n",
       "    <tr>\n",
       "      <th>1</th>\n",
       "      <td>000007603d533d30453cc45d0f3d119f</td>\n",
       "      <td>3324</td>\n",
       "      <td>2</td>\n",
       "    </tr>\n",
       "    <tr>\n",
       "      <th>2</th>\n",
       "      <td>000007603d533d30453cc45d0f3d119f</td>\n",
       "      <td>5289</td>\n",
       "      <td>3</td>\n",
       "    </tr>\n",
       "    <tr>\n",
       "      <th>3</th>\n",
       "      <td>000007603d533d30453cc45d0f3d119f</td>\n",
       "      <td>11882</td>\n",
       "      <td>4</td>\n",
       "    </tr>\n",
       "    <tr>\n",
       "      <th>4</th>\n",
       "      <td>000007603d533d30453cc45d0f3d119f</td>\n",
       "      <td>12837</td>\n",
       "      <td>5</td>\n",
       "    </tr>\n",
       "  </tbody>\n",
       "</table>\n",
       "</div>"
      ],
      "text/plain": [
       "                         session_id  candidate_yad_no  bpr_rank\n",
       "0  000007603d533d30453cc45d0f3d119f              2808         1\n",
       "1  000007603d533d30453cc45d0f3d119f              3324         2\n",
       "2  000007603d533d30453cc45d0f3d119f              5289         3\n",
       "3  000007603d533d30453cc45d0f3d119f             11882         4\n",
       "4  000007603d533d30453cc45d0f3d119f             12837         5"
      ]
     },
     "execution_count": 21,
     "metadata": {},
     "output_type": "execute_result"
    }
   ],
   "source": [
    "candidates.head()"
   ]
  },
  {
   "cell_type": "code",
   "execution_count": null,
   "id": "63d9b3c9-079f-42ee-9638-58e8fecb647d",
   "metadata": {},
   "outputs": [],
   "source": []
  }
 ],
 "metadata": {
  "kernelspec": {
   "display_name": "Python 3 (ipykernel)",
   "language": "python",
   "name": "python3"
  },
  "language_info": {
   "codemirror_mode": {
    "name": "ipython",
    "version": 3
   },
   "file_extension": ".py",
   "mimetype": "text/x-python",
   "name": "python",
   "nbconvert_exporter": "python",
   "pygments_lexer": "ipython3",
   "version": "3.10.12"
  }
 },
 "nbformat": 4,
 "nbformat_minor": 5
}
