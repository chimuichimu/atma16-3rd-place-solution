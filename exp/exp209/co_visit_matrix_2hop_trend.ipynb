{
 "cells": [
  {
   "cell_type": "markdown",
   "id": "8efcce1a-165a-4a5b-aa5b-1b0d0c4a23c1",
   "metadata": {},
   "source": [
    "# Setting"
   ]
  },
  {
   "cell_type": "code",
   "execution_count": 1,
   "id": "7c076122-4690-4781-a486-e699bed02d69",
   "metadata": {},
   "outputs": [],
   "source": [
    "import os\n",
    "from typing import List, Dict, Union\n",
    "\n",
    "import polars as pl\n",
    "\n",
    "from scripts.metrics import map_at_k"
   ]
  },
  {
   "cell_type": "code",
   "execution_count": 2,
   "id": "298c78ad-edda-49c1-a972-842d08660152",
   "metadata": {},
   "outputs": [],
   "source": [
    "INPUT_DIR = \"../../input/raw/\"\n",
    "OUTPUT_DIR = \"./candidates/\""
   ]
  },
  {
   "cell_type": "code",
   "execution_count": 3,
   "id": "f51f82be-de47-4828-a787-cf6df7be48cf",
   "metadata": {},
   "outputs": [],
   "source": [
    "def explode_and_add_seq_no(df:pl.DataFrame) -> pl.DataFrame:\n",
    "    df = df.explode([\"prev_items\"])\n",
    "    df = df.with_columns(\n",
    "        df.select(pl.col(\"session_id\").cumcount().over(\"session_id\").alias(\"seq_no\").cast(pl.Int64))\n",
    "    )\n",
    "    return df"
   ]
  },
  {
   "cell_type": "code",
   "execution_count": 4,
   "id": "9032296d-3a14-43a6-999f-643549dfc3cc",
   "metadata": {},
   "outputs": [],
   "source": [
    "def generate_co_visit_matrix(df:pl.DataFrame) -> pl.DataFrame:\n",
    "    # 2-hop先までの共起ペアの作成\n",
    "    one_hop = df.join(df, on=\"session_id\")\n",
    "    one_hop = one_hop.filter(pl.col(\"yad_no\") != pl.col(\"yad_no_right\"))[[\"yad_no\", \"yad_no_right\"]]\n",
    "    two_hop = one_hop.join(one_hop, left_on=\"yad_no_right\", right_on=\"yad_no\")\n",
    "    two_hop = two_hop.filter(pl.col(\"yad_no\") != pl.col(\"yad_no_right_right\"))\n",
    "\n",
    "    # yad_noのペアごとに共起回数を計算\n",
    "    df = two_hop.group_by([\"yad_no\", \"yad_no_right_right\"]).count()\n",
    "\n",
    "    # rankを計算\n",
    "    df = df.with_columns(\n",
    "        pl.col(\"count\").rank(descending=True).over(\"yad_no\").alias(\"trend_two_hop_co_visit_weight_rank\")\n",
    "    ).filter(\n",
    "        pl.col(\"trend_two_hop_co_visit_weight_rank\") <= 100\n",
    "    )\n",
    "\n",
    "    # 整形\n",
    "    df = df.rename({\"yad_no_right_right\":\"candidate_yad_no\"})[[\"yad_no\", \"candidate_yad_no\", \"trend_two_hop_co_visit_weight_rank\"]]\n",
    "\n",
    "    return df"
   ]
  },
  {
   "cell_type": "markdown",
   "id": "491659c0-7e69-471e-96eb-451c0575d045",
   "metadata": {},
   "source": [
    "# For local train/eval"
   ]
  },
  {
   "cell_type": "code",
   "execution_count": 5,
   "id": "4e35acd2-91b7-4301-823d-65c3593b0e5b",
   "metadata": {},
   "outputs": [],
   "source": [
    "train_log = pl.read_csv(os.path.join(INPUT_DIR, \"train_log.csv\"))"
   ]
  },
  {
   "cell_type": "code",
   "execution_count": 6,
   "id": "ea78b085-758d-4af5-8748-9b6ae89c9b07",
   "metadata": {},
   "outputs": [],
   "source": [
    "co_visit_matrix = generate_co_visit_matrix(train_log)"
   ]
  },
  {
   "cell_type": "code",
   "execution_count": 7,
   "id": "e7dc3966-6f39-4687-8edb-2a11724abcb7",
   "metadata": {},
   "outputs": [],
   "source": [
    "co_visit_matrix.write_parquet(os.path.join(OUTPUT_DIR, \"trend_two_hop_co_visit_matrix_for_train_or_eval.parquet\"))"
   ]
  },
  {
   "cell_type": "code",
   "execution_count": 8,
   "id": "6689bc3f-daeb-40fe-81da-19a3dcd407c6",
   "metadata": {},
   "outputs": [
    {
     "data": {
      "text/html": [
       "<div><style>\n",
       ".dataframe > thead > tr > th,\n",
       ".dataframe > tbody > tr > td {\n",
       "  text-align: right;\n",
       "  white-space: pre-wrap;\n",
       "}\n",
       "</style>\n",
       "<small>shape: (5, 3)</small><table border=\"1\" class=\"dataframe\"><thead><tr><th>yad_no</th><th>candidate_yad_no</th><th>trend_two_hop_co_visit_weight_rank</th></tr><tr><td>i64</td><td>i64</td><td>f64</td></tr></thead><tbody><tr><td>10915</td><td>96</td><td>12.0</td></tr><tr><td>11380</td><td>898</td><td>5.0</td></tr><tr><td>4072</td><td>898</td><td>6.0</td></tr><tr><td>12491</td><td>898</td><td>4.0</td></tr><tr><td>7014</td><td>143</td><td>2.0</td></tr></tbody></table></div>"
      ],
      "text/plain": [
       "shape: (5, 3)\n",
       "┌────────┬──────────────────┬───────────────────────────────────┐\n",
       "│ yad_no ┆ candidate_yad_no ┆ trend_two_hop_co_visit_weight_ra… │\n",
       "│ ---    ┆ ---              ┆ ---                               │\n",
       "│ i64    ┆ i64              ┆ f64                               │\n",
       "╞════════╪══════════════════╪═══════════════════════════════════╡\n",
       "│ 10915  ┆ 96               ┆ 12.0                              │\n",
       "│ 11380  ┆ 898              ┆ 5.0                               │\n",
       "│ 4072   ┆ 898              ┆ 6.0                               │\n",
       "│ 12491  ┆ 898              ┆ 4.0                               │\n",
       "│ 7014   ┆ 143              ┆ 2.0                               │\n",
       "└────────┴──────────────────┴───────────────────────────────────┘"
      ]
     },
     "execution_count": 8,
     "metadata": {},
     "output_type": "execute_result"
    }
   ],
   "source": [
    "co_visit_matrix.head()"
   ]
  },
  {
   "cell_type": "markdown",
   "id": "1951dcac-0337-46f7-afd2-23f12afe6fdb",
   "metadata": {},
   "source": [
    "# MAP@k=10"
   ]
  },
  {
   "cell_type": "code",
   "execution_count": 9,
   "id": "99b9bacc-af08-4a3c-aa0a-34e38016ec06",
   "metadata": {},
   "outputs": [],
   "source": [
    "train_log = pl.read_csv(os.path.join(INPUT_DIR, \"train_log.csv\"))\n",
    "train_label = pl.read_csv(os.path.join(INPUT_DIR, \"train_label.csv\")).rename({\"yad_no\":\"label_yad_no\"})"
   ]
  },
  {
   "cell_type": "code",
   "execution_count": 10,
   "id": "b7e1eb11-448e-4e0b-887c-25845e1589d5",
   "metadata": {},
   "outputs": [],
   "source": [
    "last_items = train_log.group_by(\"session_id\").last()"
   ]
  },
  {
   "cell_type": "code",
   "execution_count": 11,
   "id": "3475109c-84cd-4b4d-a059-274e0cd673a5",
   "metadata": {},
   "outputs": [],
   "source": [
    "co_visit_matrix = pl.read_parquet(os.path.join(OUTPUT_DIR, \"trend_two_hop_co_visit_matrix_for_train_or_eval.parquet\"))"
   ]
  },
  {
   "cell_type": "code",
   "execution_count": 12,
   "id": "2029228f-9bc1-489d-a291-7dfdf344d4ce",
   "metadata": {},
   "outputs": [],
   "source": [
    "prediction = last_items \\\n",
    "    .join(co_visit_matrix, on=\"yad_no\", how=\"left\") \\\n",
    "    .join(train_label, on=\"session_id\", how=\"left\") \\\n",
    "    .sort([\"session_id\", \"trend_two_hop_co_visit_weight_rank\"], descending=[False, False]) \\\n",
    "    .with_columns((pl.col(\"candidate_yad_no\") == pl.col(\"label_yad_no\")).cast(pl.Int8).alias(\"user_relevance\")) \\\n",
    "    .fill_null(0)"
   ]
  },
  {
   "cell_type": "code",
   "execution_count": 13,
   "id": "f5ca022a-2984-42ce-8cbd-eb426c7cf081",
   "metadata": {},
   "outputs": [],
   "source": [
    "user_relevances = prediction.group_by(\"session_id\", maintain_order=True).all()[\"user_relevance\"].to_list()"
   ]
  },
  {
   "cell_type": "code",
   "execution_count": 14,
   "id": "dce91a9c-e67a-4f9b-8251-8825d4d8ed44",
   "metadata": {},
   "outputs": [
    {
     "data": {
      "text/plain": [
       "0.1596275126630377"
      ]
     },
     "execution_count": 14,
     "metadata": {},
     "output_type": "execute_result"
    }
   ],
   "source": [
    "map_at_k(user_relevances, 10)"
   ]
  },
  {
   "cell_type": "markdown",
   "id": "d38d2dcb-d08b-4512-ae8c-99b312cd17cc",
   "metadata": {},
   "source": [
    "# For test"
   ]
  },
  {
   "cell_type": "code",
   "execution_count": 15,
   "id": "5c3f3672-b7c1-4588-8129-b0428d8f4c10",
   "metadata": {},
   "outputs": [],
   "source": [
    "test_log = pl.read_csv(os.path.join(INPUT_DIR, \"test_log.csv\"))"
   ]
  },
  {
   "cell_type": "code",
   "execution_count": 16,
   "id": "89975755-6b86-4274-bd2a-35a675c0bc3c",
   "metadata": {},
   "outputs": [],
   "source": [
    "co_visit_matrix = generate_co_visit_matrix(test_log)"
   ]
  },
  {
   "cell_type": "code",
   "execution_count": 17,
   "id": "b481cc0b-3598-471b-9064-88df52e7e636",
   "metadata": {},
   "outputs": [],
   "source": [
    "co_visit_matrix.write_parquet(os.path.join(OUTPUT_DIR, \"trend_two_hop_co_visit_matrix_for_test.parquet\"))"
   ]
  },
  {
   "cell_type": "code",
   "execution_count": 18,
   "id": "0d2d7a3c-6a8a-4457-a6ef-6aa93933891c",
   "metadata": {},
   "outputs": [
    {
     "data": {
      "text/html": [
       "<div><style>\n",
       ".dataframe > thead > tr > th,\n",
       ".dataframe > tbody > tr > td {\n",
       "  text-align: right;\n",
       "  white-space: pre-wrap;\n",
       "}\n",
       "</style>\n",
       "<small>shape: (5, 3)</small><table border=\"1\" class=\"dataframe\"><thead><tr><th>yad_no</th><th>candidate_yad_no</th><th>trend_two_hop_co_visit_weight_rank</th></tr><tr><td>i64</td><td>i64</td><td>f64</td></tr></thead><tbody><tr><td>6563</td><td>3560</td><td>10.0</td></tr><tr><td>11561</td><td>3560</td><td>8.0</td></tr><tr><td>10233</td><td>1959</td><td>7.0</td></tr><tr><td>4180</td><td>13610</td><td>7.0</td></tr><tr><td>277</td><td>13610</td><td>12.0</td></tr></tbody></table></div>"
      ],
      "text/plain": [
       "shape: (5, 3)\n",
       "┌────────┬──────────────────┬───────────────────────────────────┐\n",
       "│ yad_no ┆ candidate_yad_no ┆ trend_two_hop_co_visit_weight_ra… │\n",
       "│ ---    ┆ ---              ┆ ---                               │\n",
       "│ i64    ┆ i64              ┆ f64                               │\n",
       "╞════════╪══════════════════╪═══════════════════════════════════╡\n",
       "│ 6563   ┆ 3560             ┆ 10.0                              │\n",
       "│ 11561  ┆ 3560             ┆ 8.0                               │\n",
       "│ 10233  ┆ 1959             ┆ 7.0                               │\n",
       "│ 4180   ┆ 13610            ┆ 7.0                               │\n",
       "│ 277    ┆ 13610            ┆ 12.0                              │\n",
       "└────────┴──────────────────┴───────────────────────────────────┘"
      ]
     },
     "execution_count": 18,
     "metadata": {},
     "output_type": "execute_result"
    }
   ],
   "source": [
    "co_visit_matrix.head()"
   ]
  }
 ],
 "metadata": {
  "kernelspec": {
   "display_name": "Python 3 (ipykernel)",
   "language": "python",
   "name": "python3"
  },
  "language_info": {
   "codemirror_mode": {
    "name": "ipython",
    "version": 3
   },
   "file_extension": ".py",
   "mimetype": "text/x-python",
   "name": "python",
   "nbconvert_exporter": "python",
   "pygments_lexer": "ipython3",
   "version": "3.10.12"
  }
 },
 "nbformat": 4,
 "nbformat_minor": 5
}
