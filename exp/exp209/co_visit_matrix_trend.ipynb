{
 "cells": [
  {
   "cell_type": "markdown",
   "id": "8efcce1a-165a-4a5b-aa5b-1b0d0c4a23c1",
   "metadata": {},
   "source": [
    "# Setting"
   ]
  },
  {
   "cell_type": "code",
   "execution_count": 1,
   "id": "7c076122-4690-4781-a486-e699bed02d69",
   "metadata": {},
   "outputs": [],
   "source": [
    "import os\n",
    "from typing import List, Dict, Union\n",
    "\n",
    "import polars as pl\n",
    "\n",
    "from scripts.metrics import map_at_k"
   ]
  },
  {
   "cell_type": "code",
   "execution_count": 2,
   "id": "298c78ad-edda-49c1-a972-842d08660152",
   "metadata": {},
   "outputs": [],
   "source": [
    "INPUT_DIR = \"../../input/raw/\"\n",
    "OUTPUT_DIR = \"./candidates/\""
   ]
  },
  {
   "cell_type": "code",
   "execution_count": 3,
   "id": "f51f82be-de47-4828-a787-cf6df7be48cf",
   "metadata": {},
   "outputs": [],
   "source": [
    "def explode_and_add_seq_no(df:pl.DataFrame) -> pl.DataFrame:\n",
    "    df = df.explode([\"prev_items\"])\n",
    "    df = df.with_columns(\n",
    "        df.select(pl.col(\"session_id\").cumcount().over(\"session_id\").alias(\"seq_no\").cast(pl.Int64))\n",
    "    )\n",
    "    return df"
   ]
  },
  {
   "cell_type": "code",
   "execution_count": 4,
   "id": "9032296d-3a14-43a6-999f-643549dfc3cc",
   "metadata": {},
   "outputs": [],
   "source": [
    "def generate_co_visit_matrix(df:pl.DataFrame) -> pl.DataFrame:\n",
    "    # 共起ペアの作成\n",
    "    df = df.join(df, on=\"session_id\")\n",
    "\n",
    "    # yad_noが同じものは除外する\n",
    "    df = df.filter(pl.col(\"yad_no\") != pl.col(\"yad_no_right\"))\n",
    "\n",
    "    # yad_noのペアごとに共起回数を計算\n",
    "    df = df.group_by([\"yad_no\", \"yad_no_right\"]).count()\n",
    "\n",
    "    # rankを計算\n",
    "    df = df.with_columns(pl.col(\"count\").rank(descending=True).over(\"yad_no\").alias(\"trend_co_visit_weight_rank\"))\n",
    "\n",
    "    # 整形\n",
    "    df = df.rename({\"yad_no_right\":\"candidate_yad_no\"})[[\"yad_no\", \"candidate_yad_no\", \"trend_co_visit_weight_rank\"]]\n",
    "\n",
    "    return df"
   ]
  },
  {
   "cell_type": "markdown",
   "id": "491659c0-7e69-471e-96eb-451c0575d045",
   "metadata": {},
   "source": [
    "# For local train/eval"
   ]
  },
  {
   "cell_type": "code",
   "execution_count": 5,
   "id": "4e35acd2-91b7-4301-823d-65c3593b0e5b",
   "metadata": {},
   "outputs": [],
   "source": [
    "train_log = pl.read_csv(os.path.join(INPUT_DIR, \"train_log.csv\"))"
   ]
  },
  {
   "cell_type": "code",
   "execution_count": 6,
   "id": "ea78b085-758d-4af5-8748-9b6ae89c9b07",
   "metadata": {},
   "outputs": [],
   "source": [
    "co_visit_matrix = generate_co_visit_matrix(train_log)"
   ]
  },
  {
   "cell_type": "code",
   "execution_count": 7,
   "id": "e7dc3966-6f39-4687-8edb-2a11724abcb7",
   "metadata": {},
   "outputs": [],
   "source": [
    "co_visit_matrix.write_parquet(os.path.join(OUTPUT_DIR, \"co_visit_matrix_trend_for_train_or_eval.parquet\"))"
   ]
  },
  {
   "cell_type": "code",
   "execution_count": 8,
   "id": "6689bc3f-daeb-40fe-81da-19a3dcd407c6",
   "metadata": {},
   "outputs": [
    {
     "data": {
      "text/html": [
       "<div><style>\n",
       ".dataframe > thead > tr > th,\n",
       ".dataframe > tbody > tr > td {\n",
       "  text-align: right;\n",
       "  white-space: pre-wrap;\n",
       "}\n",
       "</style>\n",
       "<small>shape: (5, 3)</small><table border=\"1\" class=\"dataframe\"><thead><tr><th>yad_no</th><th>candidate_yad_no</th><th>trend_co_visit_weight_rank</th></tr><tr><td>i64</td><td>i64</td><td>f64</td></tr></thead><tbody><tr><td>10095</td><td>12425</td><td>92.0</td></tr><tr><td>6514</td><td>7890</td><td>1.0</td></tr><tr><td>10856</td><td>11146</td><td>18.5</td></tr><tr><td>13198</td><td>3653</td><td>13.5</td></tr><tr><td>7787</td><td>12750</td><td>8.5</td></tr></tbody></table></div>"
      ],
      "text/plain": [
       "shape: (5, 3)\n",
       "┌────────┬──────────────────┬────────────────────────────┐\n",
       "│ yad_no ┆ candidate_yad_no ┆ trend_co_visit_weight_rank │\n",
       "│ ---    ┆ ---              ┆ ---                        │\n",
       "│ i64    ┆ i64              ┆ f64                        │\n",
       "╞════════╪══════════════════╪════════════════════════════╡\n",
       "│ 10095  ┆ 12425            ┆ 92.0                       │\n",
       "│ 6514   ┆ 7890             ┆ 1.0                        │\n",
       "│ 10856  ┆ 11146            ┆ 18.5                       │\n",
       "│ 13198  ┆ 3653             ┆ 13.5                       │\n",
       "│ 7787   ┆ 12750            ┆ 8.5                        │\n",
       "└────────┴──────────────────┴────────────────────────────┘"
      ]
     },
     "execution_count": 8,
     "metadata": {},
     "output_type": "execute_result"
    }
   ],
   "source": [
    "co_visit_matrix.head()"
   ]
  },
  {
   "cell_type": "markdown",
   "id": "1951dcac-0337-46f7-afd2-23f12afe6fdb",
   "metadata": {},
   "source": [
    "# MAP@k=10"
   ]
  },
  {
   "cell_type": "code",
   "execution_count": 9,
   "id": "99b9bacc-af08-4a3c-aa0a-34e38016ec06",
   "metadata": {},
   "outputs": [],
   "source": [
    "train_log = pl.read_csv(os.path.join(INPUT_DIR, \"train_log.csv\"))\n",
    "train_label = pl.read_csv(os.path.join(INPUT_DIR, \"train_label.csv\")).rename({\"yad_no\":\"label_yad_no\"})"
   ]
  },
  {
   "cell_type": "code",
   "execution_count": 10,
   "id": "b7e1eb11-448e-4e0b-887c-25845e1589d5",
   "metadata": {},
   "outputs": [],
   "source": [
    "last_items = train_log.group_by(\"session_id\").last()"
   ]
  },
  {
   "cell_type": "code",
   "execution_count": 11,
   "id": "3475109c-84cd-4b4d-a059-274e0cd673a5",
   "metadata": {},
   "outputs": [],
   "source": [
    "co_visit_matrix = pl.read_parquet(os.path.join(OUTPUT_DIR, \"co_visit_matrix_trend_for_train_or_eval.parquet\"))"
   ]
  },
  {
   "cell_type": "code",
   "execution_count": 12,
   "id": "2029228f-9bc1-489d-a291-7dfdf344d4ce",
   "metadata": {},
   "outputs": [],
   "source": [
    "prediction = last_items \\\n",
    "    .join(co_visit_matrix, on=\"yad_no\", how=\"left\") \\\n",
    "    .join(train_label, on=\"session_id\", how=\"left\") \\\n",
    "    .sort([\"session_id\", \"trend_co_visit_weight_rank\"], descending=[False, False]) \\\n",
    "    .with_columns((pl.col(\"candidate_yad_no\") == pl.col(\"label_yad_no\")).cast(pl.Int8).alias(\"user_relevance\")) \\\n",
    "    .fill_null(0)"
   ]
  },
  {
   "cell_type": "code",
   "execution_count": 13,
   "id": "f5ca022a-2984-42ce-8cbd-eb426c7cf081",
   "metadata": {},
   "outputs": [],
   "source": [
    "user_relevances = prediction.group_by(\"session_id\", maintain_order=True).all()[\"user_relevance\"].to_list()"
   ]
  },
  {
   "cell_type": "code",
   "execution_count": 14,
   "id": "dce91a9c-e67a-4f9b-8251-8825d4d8ed44",
   "metadata": {},
   "outputs": [
    {
     "data": {
      "text/plain": [
       "0.21876196463663303"
      ]
     },
     "execution_count": 14,
     "metadata": {},
     "output_type": "execute_result"
    }
   ],
   "source": [
    "map_at_k(user_relevances, 10)"
   ]
  },
  {
   "cell_type": "markdown",
   "id": "d38d2dcb-d08b-4512-ae8c-99b312cd17cc",
   "metadata": {},
   "source": [
    "# For test"
   ]
  },
  {
   "cell_type": "code",
   "execution_count": 15,
   "id": "5c3f3672-b7c1-4588-8129-b0428d8f4c10",
   "metadata": {},
   "outputs": [],
   "source": [
    "test_log = pl.read_csv(os.path.join(INPUT_DIR, \"test_log.csv\"))"
   ]
  },
  {
   "cell_type": "code",
   "execution_count": 16,
   "id": "89975755-6b86-4274-bd2a-35a675c0bc3c",
   "metadata": {},
   "outputs": [],
   "source": [
    "co_visit_matrix = generate_co_visit_matrix(test_log)"
   ]
  },
  {
   "cell_type": "code",
   "execution_count": 17,
   "id": "b481cc0b-3598-471b-9064-88df52e7e636",
   "metadata": {},
   "outputs": [],
   "source": [
    "co_visit_matrix.write_parquet(os.path.join(OUTPUT_DIR, \"co_visit_matrix_trend_for_test.parquet\"))"
   ]
  },
  {
   "cell_type": "code",
   "execution_count": 18,
   "id": "0d2d7a3c-6a8a-4457-a6ef-6aa93933891c",
   "metadata": {},
   "outputs": [
    {
     "data": {
      "text/html": [
       "<div><style>\n",
       ".dataframe > thead > tr > th,\n",
       ".dataframe > tbody > tr > td {\n",
       "  text-align: right;\n",
       "  white-space: pre-wrap;\n",
       "}\n",
       "</style>\n",
       "<small>shape: (5, 3)</small><table border=\"1\" class=\"dataframe\"><thead><tr><th>yad_no</th><th>candidate_yad_no</th><th>trend_co_visit_weight_rank</th></tr><tr><td>i64</td><td>i64</td><td>f64</td></tr></thead><tbody><tr><td>7044</td><td>10033</td><td>3.0</td></tr><tr><td>2288</td><td>8441</td><td>5.0</td></tr><tr><td>8958</td><td>12183</td><td>4.5</td></tr><tr><td>3370</td><td>6927</td><td>3.0</td></tr><tr><td>6770</td><td>12868</td><td>10.5</td></tr></tbody></table></div>"
      ],
      "text/plain": [
       "shape: (5, 3)\n",
       "┌────────┬──────────────────┬────────────────────────────┐\n",
       "│ yad_no ┆ candidate_yad_no ┆ trend_co_visit_weight_rank │\n",
       "│ ---    ┆ ---              ┆ ---                        │\n",
       "│ i64    ┆ i64              ┆ f64                        │\n",
       "╞════════╪══════════════════╪════════════════════════════╡\n",
       "│ 7044   ┆ 10033            ┆ 3.0                        │\n",
       "│ 2288   ┆ 8441             ┆ 5.0                        │\n",
       "│ 8958   ┆ 12183            ┆ 4.5                        │\n",
       "│ 3370   ┆ 6927             ┆ 3.0                        │\n",
       "│ 6770   ┆ 12868            ┆ 10.5                       │\n",
       "└────────┴──────────────────┴────────────────────────────┘"
      ]
     },
     "execution_count": 18,
     "metadata": {},
     "output_type": "execute_result"
    }
   ],
   "source": [
    "co_visit_matrix.head()"
   ]
  },
  {
   "cell_type": "code",
   "execution_count": null,
   "id": "63d9b3c9-079f-42ee-9638-58e8fecb647d",
   "metadata": {},
   "outputs": [],
   "source": []
  }
 ],
 "metadata": {
  "kernelspec": {
   "display_name": "Python 3 (ipykernel)",
   "language": "python",
   "name": "python3"
  },
  "language_info": {
   "codemirror_mode": {
    "name": "ipython",
    "version": 3
   },
   "file_extension": ".py",
   "mimetype": "text/x-python",
   "name": "python",
   "nbconvert_exporter": "python",
   "pygments_lexer": "ipython3",
   "version": "3.10.12"
  }
 },
 "nbformat": 4,
 "nbformat_minor": 5
}
