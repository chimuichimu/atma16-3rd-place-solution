{
 "cells": [
  {
   "cell_type": "markdown",
   "id": "8efcce1a-165a-4a5b-aa5b-1b0d0c4a23c1",
   "metadata": {},
   "source": [
    "# Setting"
   ]
  },
  {
   "cell_type": "code",
   "execution_count": 1,
   "id": "7c076122-4690-4781-a486-e699bed02d69",
   "metadata": {},
   "outputs": [],
   "source": [
    "import os\n",
    "from typing import List, Dict, Union\n",
    "\n",
    "import polars as pl\n",
    "\n",
    "from scripts.metrics import map_at_k"
   ]
  },
  {
   "cell_type": "code",
   "execution_count": 2,
   "id": "298c78ad-edda-49c1-a972-842d08660152",
   "metadata": {},
   "outputs": [],
   "source": [
    "INPUT_DIR = \"../../input/raw/\"\n",
    "OUTPUT_DIR = \"./features/\""
   ]
  },
  {
   "cell_type": "code",
   "execution_count": 3,
   "id": "f51f82be-de47-4828-a787-cf6df7be48cf",
   "metadata": {},
   "outputs": [],
   "source": [
    "def explode_and_add_seq_no(df:pl.DataFrame) -> pl.DataFrame:\n",
    "    df = df.explode([\"prev_items\"])\n",
    "    df = df.with_columns(\n",
    "        df.select(pl.col(\"session_id\").cumcount().over(\"session_id\").alias(\"seq_no\").cast(pl.Int64))\n",
    "    )\n",
    "    return df"
   ]
  },
  {
   "cell_type": "code",
   "execution_count": 4,
   "id": "9032296d-3a14-43a6-999f-643549dfc3cc",
   "metadata": {},
   "outputs": [],
   "source": [
    "def generate_lift(df:pl.DataFrame) -> pl.DataFrame:\n",
    "\n",
    "    session_count = df[\"session_id\"].n_unique()\n",
    "    item_count = df.group_by(\"yad_no\").count()\n",
    "    \n",
    "    # 共起ペアの作成計算\n",
    "    df = df.join(df, on=\"session_id\")\n",
    "    \n",
    "    # それぞれの宿の回数と、共起の回数を計算\n",
    "    df = df.filter(pl.col(\"yad_no\") != pl.col(\"yad_no_right\"))[[\"yad_no\", \"yad_no_right\"]]\n",
    "    df = df.group_by([\"yad_no\", \"yad_no_right\"]).count().rename({\"count\":\"co_occurrence\"})\n",
    "    df = df.join(\n",
    "        item_count,\n",
    "        on = \"yad_no\",\n",
    "        how = \"left\"\n",
    "    ).rename(\n",
    "        {\"count\":\"yad_no_occurrence\"}\n",
    "    ).join(\n",
    "        item_count,\n",
    "        left_on = \"yad_no_right\",\n",
    "        right_on = \"yad_no\",\n",
    "        how = \"left\"\n",
    "    ).rename(\n",
    "        {\"count\":\"yad_no_right_occurrence\"}\n",
    "    )\n",
    "    \n",
    "    # リフト値の計算\n",
    "    df = df.with_columns(\n",
    "        ((pl.col(\"co_occurrence\") / session_count) / ((pl.col(\"yad_no_occurrence\") / session_count) * (pl.col(\"yad_no_right_occurrence\") / session_count))).alias(\"lift\")\n",
    "    )\n",
    "\n",
    "    # 整形\n",
    "    df = df[[\"yad_no\", \"yad_no_right\", \"lift\"]]\n",
    "\n",
    "    return df"
   ]
  },
  {
   "cell_type": "markdown",
   "id": "491659c0-7e69-471e-96eb-451c0575d045",
   "metadata": {},
   "source": [
    "# For local train/eval"
   ]
  },
  {
   "cell_type": "code",
   "execution_count": 5,
   "id": "4e35acd2-91b7-4301-823d-65c3593b0e5b",
   "metadata": {},
   "outputs": [],
   "source": [
    "train_log = pl.read_csv(os.path.join(INPUT_DIR, \"train_log.csv\"))\n",
    "test_log = pl.read_csv(os.path.join(INPUT_DIR, \"test_log.csv\"))"
   ]
  },
  {
   "cell_type": "code",
   "execution_count": 6,
   "id": "ec767d0f-9ab5-490b-bebc-874604f0f6e9",
   "metadata": {},
   "outputs": [],
   "source": [
    "log = pl.concat([train_log, test_log], how=\"vertical\")"
   ]
  },
  {
   "cell_type": "code",
   "execution_count": 7,
   "id": "528a40f4-0057-4d98-9e3a-8840776633f2",
   "metadata": {},
   "outputs": [],
   "source": [
    "trend_lift = generate_lift(train_log)\n",
    "trend_lift = trend_lift.rename({\"lift\":\"trend_lift\"})"
   ]
  },
  {
   "cell_type": "code",
   "execution_count": 8,
   "id": "ea78b085-758d-4af5-8748-9b6ae89c9b07",
   "metadata": {},
   "outputs": [],
   "source": [
    "lift = generate_lift(log)"
   ]
  },
  {
   "cell_type": "code",
   "execution_count": 9,
   "id": "d15f8103-b1f6-4d03-aa22-5b058ef03c34",
   "metadata": {},
   "outputs": [],
   "source": [
    "cf_features = lift.join(trend_lift, on=[\"yad_no\", \"yad_no_right\"], how=\"left\").fill_null(-1)"
   ]
  },
  {
   "cell_type": "code",
   "execution_count": 10,
   "id": "e7dc3966-6f39-4687-8edb-2a11724abcb7",
   "metadata": {},
   "outputs": [],
   "source": [
    "cf_features.write_parquet(os.path.join(OUTPUT_DIR, \"cf_feat_for_train_or_eval.parquet\"))"
   ]
  },
  {
   "cell_type": "code",
   "execution_count": 11,
   "id": "6689bc3f-daeb-40fe-81da-19a3dcd407c6",
   "metadata": {},
   "outputs": [
    {
     "data": {
      "text/html": [
       "<div><style>\n",
       ".dataframe > thead > tr > th,\n",
       ".dataframe > tbody > tr > td {\n",
       "  text-align: right;\n",
       "  white-space: pre-wrap;\n",
       "}\n",
       "</style>\n",
       "<small>shape: (5, 4)</small><table border=\"1\" class=\"dataframe\"><thead><tr><th>yad_no</th><th>yad_no_right</th><th>lift</th><th>trend_lift</th></tr><tr><td>i64</td><td>i64</td><td>f64</td><td>f64</td></tr></thead><tbody><tr><td>10095</td><td>12425</td><td>0.681333</td><td>0.822581</td></tr><tr><td>6514</td><td>7890</td><td>671.591304</td><td>855.401481</td></tr><tr><td>10856</td><td>11146</td><td>53.466944</td><td>65.464399</td></tr><tr><td>13198</td><td>3653</td><td>39.244411</td><td>34.108932</td></tr><tr><td>7787</td><td>12750</td><td>77.053209</td><td>278.935266</td></tr></tbody></table></div>"
      ],
      "text/plain": [
       "shape: (5, 4)\n",
       "┌────────┬──────────────┬────────────┬────────────┐\n",
       "│ yad_no ┆ yad_no_right ┆ lift       ┆ trend_lift │\n",
       "│ ---    ┆ ---          ┆ ---        ┆ ---        │\n",
       "│ i64    ┆ i64          ┆ f64        ┆ f64        │\n",
       "╞════════╪══════════════╪════════════╪════════════╡\n",
       "│ 10095  ┆ 12425        ┆ 0.681333   ┆ 0.822581   │\n",
       "│ 6514   ┆ 7890         ┆ 671.591304 ┆ 855.401481 │\n",
       "│ 10856  ┆ 11146        ┆ 53.466944  ┆ 65.464399  │\n",
       "│ 13198  ┆ 3653         ┆ 39.244411  ┆ 34.108932  │\n",
       "│ 7787   ┆ 12750        ┆ 77.053209  ┆ 278.935266 │\n",
       "└────────┴──────────────┴────────────┴────────────┘"
      ]
     },
     "execution_count": 11,
     "metadata": {},
     "output_type": "execute_result"
    }
   ],
   "source": [
    "cf_features.head()"
   ]
  },
  {
   "cell_type": "markdown",
   "id": "d38d2dcb-d08b-4512-ae8c-99b312cd17cc",
   "metadata": {},
   "source": [
    "# For test"
   ]
  },
  {
   "cell_type": "code",
   "execution_count": 12,
   "id": "5c3f3672-b7c1-4588-8129-b0428d8f4c10",
   "metadata": {},
   "outputs": [],
   "source": [
    "train_log = pl.read_csv(os.path.join(INPUT_DIR, \"train_log.csv\"))\n",
    "train_label = pl.read_csv(os.path.join(INPUT_DIR, \"train_label.csv\"))\n",
    "test_log = pl.read_csv(os.path.join(INPUT_DIR, \"test_log.csv\"))"
   ]
  },
  {
   "cell_type": "code",
   "execution_count": 13,
   "id": "f6aa87c7-5892-4368-ac79-34eca4ce2287",
   "metadata": {},
   "outputs": [],
   "source": [
    "# trainのlabelをlogにappendする\n",
    "\n",
    "prev_items_list = (\n",
    "    train_log\n",
    "    .sort([\"session_id\", \"seq_no\"])\n",
    "    .group_by(\"session_id\", maintain_order=True)\n",
    "    .agg(pl.col(\"yad_no\"))\n",
    ")[\"yad_no\"].to_list()\n",
    "\n",
    "next_item_list = (\n",
    "    train_label\n",
    "    .sort(\"session_id\")\n",
    ")[\"yad_no\"].to_list()\n",
    "\n",
    "prev_items_list_updated = []\n",
    "for prev_items, next_item in zip(prev_items_list, next_item_list):\n",
    "    prev_items.append(next_item)\n",
    "    prev_items_list_updated.append(prev_items)\n",
    "\n",
    "train_log = train_label.with_columns(\n",
    "    pl.Series(name=\"prev_items\", values=prev_items_list_updated)\n",
    ")\n",
    "\n",
    "train_log = explode_and_add_seq_no(train_log) \\\n",
    "    .drop(\"yad_no\") \\\n",
    "    .rename({\"prev_items\" : \"yad_no\"}) \\\n",
    "    [[\"session_id\", \"seq_no\", \"yad_no\"]] # カラム並び替え"
   ]
  },
  {
   "cell_type": "code",
   "execution_count": 14,
   "id": "9b07f3a0-7312-4e76-ac4b-f4465f4d3146",
   "metadata": {},
   "outputs": [],
   "source": [
    "log = pl.concat([train_log, test_log], how=\"vertical\")"
   ]
  },
  {
   "cell_type": "code",
   "execution_count": 15,
   "id": "4689f0de-3346-480d-aa50-bda849a135f4",
   "metadata": {},
   "outputs": [],
   "source": [
    "trend_lift = generate_lift(test_log)\n",
    "trend_lift = trend_lift.rename({\"lift\":\"trend_lift\"})"
   ]
  },
  {
   "cell_type": "code",
   "execution_count": 16,
   "id": "cfea463a-50e4-495a-bd78-0e1f8fa41702",
   "metadata": {},
   "outputs": [],
   "source": [
    "lift = generate_lift(log)"
   ]
  },
  {
   "cell_type": "code",
   "execution_count": 17,
   "id": "3eb4df00-5402-49cc-a4ed-a36a6769ad60",
   "metadata": {},
   "outputs": [],
   "source": [
    "cf_features = lift.join(trend_lift, on=[\"yad_no\", \"yad_no_right\"], how=\"left\").fill_null(-1)"
   ]
  },
  {
   "cell_type": "code",
   "execution_count": 18,
   "id": "b01d8cfc-779a-4b28-a7cf-7374de4f9bda",
   "metadata": {},
   "outputs": [],
   "source": [
    "cf_features.write_parquet(os.path.join(OUTPUT_DIR, \"cf_feat_for_test.parquet\"))"
   ]
  },
  {
   "cell_type": "code",
   "execution_count": 19,
   "id": "89975755-6b86-4274-bd2a-35a675c0bc3c",
   "metadata": {},
   "outputs": [
    {
     "data": {
      "text/html": [
       "<div><style>\n",
       ".dataframe > thead > tr > th,\n",
       ".dataframe > tbody > tr > td {\n",
       "  text-align: right;\n",
       "  white-space: pre-wrap;\n",
       "}\n",
       "</style>\n",
       "<small>shape: (5, 4)</small><table border=\"1\" class=\"dataframe\"><thead><tr><th>yad_no</th><th>yad_no_right</th><th>lift</th><th>trend_lift</th></tr><tr><td>i64</td><td>i64</td><td>f64</td><td>f64</td></tr></thead><tbody><tr><td>6868</td><td>4823</td><td>2797.171026</td><td>-1.0</td></tr><tr><td>13106</td><td>10362</td><td>137.388161</td><td>150.344234</td></tr><tr><td>8833</td><td>8322</td><td>29.813936</td><td>-1.0</td></tr><tr><td>3079</td><td>7920</td><td>11.493006</td><td>-1.0</td></tr><tr><td>13120</td><td>7725</td><td>3777.701087</td><td>-1.0</td></tr></tbody></table></div>"
      ],
      "text/plain": [
       "shape: (5, 4)\n",
       "┌────────┬──────────────┬─────────────┬────────────┐\n",
       "│ yad_no ┆ yad_no_right ┆ lift        ┆ trend_lift │\n",
       "│ ---    ┆ ---          ┆ ---         ┆ ---        │\n",
       "│ i64    ┆ i64          ┆ f64         ┆ f64        │\n",
       "╞════════╪══════════════╪═════════════╪════════════╡\n",
       "│ 6868   ┆ 4823         ┆ 2797.171026 ┆ -1.0       │\n",
       "│ 13106  ┆ 10362        ┆ 137.388161  ┆ 150.344234 │\n",
       "│ 8833   ┆ 8322         ┆ 29.813936   ┆ -1.0       │\n",
       "│ 3079   ┆ 7920         ┆ 11.493006   ┆ -1.0       │\n",
       "│ 13120  ┆ 7725         ┆ 3777.701087 ┆ -1.0       │\n",
       "└────────┴──────────────┴─────────────┴────────────┘"
      ]
     },
     "execution_count": 19,
     "metadata": {},
     "output_type": "execute_result"
    }
   ],
   "source": [
    "cf_features.head()"
   ]
  },
  {
   "cell_type": "code",
   "execution_count": null,
   "id": "abed2640-6278-4872-81ab-177e0cbbdd90",
   "metadata": {},
   "outputs": [],
   "source": []
  }
 ],
 "metadata": {
  "kernelspec": {
   "display_name": "Python 3 (ipykernel)",
   "language": "python",
   "name": "python3"
  },
  "language_info": {
   "codemirror_mode": {
    "name": "ipython",
    "version": 3
   },
   "file_extension": ".py",
   "mimetype": "text/x-python",
   "name": "python",
   "nbconvert_exporter": "python",
   "pygments_lexer": "ipython3",
   "version": "3.10.12"
  }
 },
 "nbformat": 4,
 "nbformat_minor": 5
}
