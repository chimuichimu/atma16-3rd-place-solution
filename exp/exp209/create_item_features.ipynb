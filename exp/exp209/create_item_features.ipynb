{
 "cells": [
  {
   "cell_type": "code",
   "execution_count": 1,
   "id": "224d7aae-6a29-4aea-bee3-5f7b74b25f23",
   "metadata": {},
   "outputs": [],
   "source": [
    "import os\n",
    "\n",
    "import polars as pl"
   ]
  },
  {
   "cell_type": "code",
   "execution_count": 2,
   "id": "141f88d9-ed1d-449f-a8e2-1bfdafaa2d2a",
   "metadata": {},
   "outputs": [],
   "source": [
    "INPUT_DIR = \"../../input/raw/\"\n",
    "OUTPUT_DIR = \"./features/\""
   ]
  },
  {
   "cell_type": "markdown",
   "id": "d10cc0e0-169c-4466-8a62-509a7b98aa95",
   "metadata": {},
   "source": [
    "# アイテム特徴量"
   ]
  },
  {
   "cell_type": "code",
   "execution_count": 3,
   "id": "2e004f70-131d-4770-adad-7fae41abf3ca",
   "metadata": {},
   "outputs": [],
   "source": [
    "def explode_and_add_seq_no(df:pl.DataFrame) -> pl.DataFrame:\n",
    "    df = df.explode([\"prev_items\"])\n",
    "    df = df.with_columns(\n",
    "        df.select(pl.col(\"session_id\").cumcount().over(\"session_id\").alias(\"seq_no\").cast(pl.Int64))\n",
    "    )\n",
    "    return df"
   ]
  },
  {
   "cell_type": "code",
   "execution_count": 4,
   "id": "0684e1c3-5929-4698-b6c9-9a041a5e208a",
   "metadata": {},
   "outputs": [],
   "source": [
    "def generate_product_features(item_df: pl.DataFrame, log_df: pl.DataFrame, full_log_df: pl.DataFrame):\n",
    "\n",
    "    log_df = log_df.join(item_df, on=\"yad_no\", how=\"left\")\n",
    "    full_log_df = full_log_df.join(item_df, on=\"yad_no\", how=\"left\")\n",
    "    location_cds = [\"wid_cd\", \"ken_cd\", \"lrg_cd\", \"sml_cd\"]\n",
    "\n",
    "    # アイテムの基礎特徴量\n",
    "    item_features_df = item_df.rename({\n",
    "        \"yad_type\":\"P_yad_type\",\n",
    "        \"total_room_cnt\":\"P_total_room_cnt\",\n",
    "        \"wireless_lan_flg\":\"P_wireless_lan_flg\",\n",
    "        \"onsen_flg\":\"P_onsen_flg\",\n",
    "        \"kd_stn_5min\":\"P_kd_stn_5min\",\n",
    "        \"kd_bch_5min\":\"P_kd_bch_5min\",\n",
    "        \"kd_slp_5min\":\"P_kd_slp_5min\",\n",
    "        \"kd_conv_walk_5min\":\"P_kd_conv_walk_5min\",\n",
    "        \"wid_cd\":\"P_wid_cd\",\n",
    "        \"ken_cd\":\"P_ken_cd\",\n",
    "        \"lrg_cd\":\"P_lrg_cd\",\n",
    "        \"sml_cd\":\"P_sml_cd\",\n",
    "    })\n",
    "\n",
    "    # 該当期間内（train or test）におけるアイテムの閲覧回数\n",
    "    item_features_df = item_features_df.join(\n",
    "        log_df.group_by(\"yad_no\").count().rename({\"count\":\"P_order_count\"}),\n",
    "        on = \"yad_no\",\n",
    "        how=\"left\",\n",
    "    ).fill_null(0)\n",
    "\n",
    "    # 全期間におけるアイテムの閲覧回数\n",
    "    item_features_df = item_features_df.join(\n",
    "        full_log_df.group_by(\"yad_no\").count().rename({\"count\":\"P_full_order_count\"}),\n",
    "        on = \"yad_no\",\n",
    "        how=\"left\",\n",
    "    ).fill_null(0)\n",
    "\n",
    "    # 全期間に対する、該当期間内（train or test）におけるアイテムの閲覧回数の割合\n",
    "    item_features_df = item_features_df.with_columns(\n",
    "        (pl.col(\"P_order_count\") / pl.col(\"P_full_order_count\")).alias(\"P_order_count_ratio_in_phase\")\n",
    "    )\n",
    "\n",
    "    # 該当期間内（train or test）におけるアイテムの所属する地域の予約回数\n",
    "    for cd in location_cds:    \n",
    "        item_features_df = item_features_df.join(\n",
    "            log_df.group_by(cd).count().rename({\"count\":f\"P_order_count_{cd}\"}),\n",
    "            left_on = f\"P_{cd}\",\n",
    "            right_on = cd,\n",
    "            how=\"left\"\n",
    "        )\n",
    "\n",
    "    # 全期間におけるアイテムの所属する地域の予約回数\n",
    "    for cd in location_cds:    \n",
    "        item_features_df = item_features_df.join(\n",
    "            full_log_df.group_by(cd).count().rename({\"count\":f\"P_full_order_count_{cd}\"}),\n",
    "            left_on = f\"P_{cd}\",\n",
    "            right_on = cd,\n",
    "            how=\"left\"\n",
    "        )\n",
    "\n",
    "    # 該当期間内（train or test）における地域の総予約回数に対する、そのアイテムの予約回数の割合\n",
    "    for cd in location_cds:\n",
    "        item_features_df = item_features_df.with_columns([\n",
    "            (pl.col(\"P_order_count\") / (pl.col(f\"P_order_count_{cd}\") + 1)).alias(f\"P_order_count_ratio_to_{cd}\"),\n",
    "        ])\n",
    "\n",
    "    # 全期間における地域の総予約回数に対する、そのアイテムの予約回数の割合\n",
    "    for cd in location_cds:\n",
    "        item_features_df = item_features_df.with_columns([\n",
    "            (pl.col(\"P_full_order_count\") / (pl.col(f\"P_full_order_count_{cd}\") + 1)).alias(f\"P_full_order_count_ratio_to_{cd}\"),\n",
    "        ])\n",
    "\n",
    "    # 不要変数削除\n",
    "    item_features_df = item_features_df.drop(\"P_order_count\")\n",
    "    item_features_df = item_features_df.drop(\"P_full_order_count\")\n",
    "    for cd in location_cds:    \n",
    "        item_features_df = item_features_df.drop(f\"P_order_count_{cd}\")\n",
    "        item_features_df = item_features_df.drop(f\"P_full_order_count_{cd}\")\n",
    "        \n",
    "    return item_features_df"
   ]
  },
  {
   "cell_type": "markdown",
   "id": "faf88380-e040-4d18-9552-5fdfd53e7bd6",
   "metadata": {},
   "source": [
    "# train/eval"
   ]
  },
  {
   "cell_type": "code",
   "execution_count": 5,
   "id": "859fa65d-1ddd-44d5-90d6-1d395ae3b34a",
   "metadata": {},
   "outputs": [],
   "source": [
    "train_log = pl.read_csv(os.path.join(INPUT_DIR, \"train_log.csv\"))\n",
    "test_log = pl.read_csv(os.path.join(INPUT_DIR, \"test_log.csv\"))"
   ]
  },
  {
   "cell_type": "code",
   "execution_count": 6,
   "id": "3c68d0ff-abab-4637-90ad-d17e12616cea",
   "metadata": {},
   "outputs": [],
   "source": [
    "log = pl.concat([train_log, test_log], how=\"vertical\")"
   ]
  },
  {
   "cell_type": "code",
   "execution_count": 7,
   "id": "7ddda57e-a1f9-4542-98cc-11923e32d570",
   "metadata": {},
   "outputs": [],
   "source": [
    "item = pl.read_csv(os.path.join(INPUT_DIR, \"yado.csv\"))"
   ]
  },
  {
   "cell_type": "code",
   "execution_count": 8,
   "id": "795e1dc2-d0cb-48c0-830a-5113f3eb1e4a",
   "metadata": {},
   "outputs": [],
   "source": [
    "item_feat = generate_product_features(item, train_log, log)\n",
    "item_feat.write_parquet(os.path.join(OUTPUT_DIR, \"product_feat_train.parquet\"))"
   ]
  },
  {
   "cell_type": "markdown",
   "id": "bbd4410e-3eb0-4449-a212-347da597e4e6",
   "metadata": {},
   "source": [
    "# test"
   ]
  },
  {
   "cell_type": "code",
   "execution_count": 9,
   "id": "795440cd-f998-431c-8976-74be01edc86d",
   "metadata": {},
   "outputs": [],
   "source": [
    "train_log = pl.read_csv(os.path.join(INPUT_DIR, \"train_log.csv\"))\n",
    "train_label = pl.read_csv(os.path.join(INPUT_DIR, \"train_label.csv\"))\n",
    "test_log = pl.read_csv(os.path.join(INPUT_DIR, \"test_log.csv\"))"
   ]
  },
  {
   "cell_type": "code",
   "execution_count": 10,
   "id": "1e7aaade-2d7e-493b-8d8f-84e13ddd794a",
   "metadata": {},
   "outputs": [],
   "source": [
    "# trainのlabelをlogにappendする\n",
    "\n",
    "prev_items_list = (\n",
    "    train_log\n",
    "    .sort([\"session_id\", \"seq_no\"])\n",
    "    .group_by(\"session_id\", maintain_order=True)\n",
    "    .agg(pl.col(\"yad_no\"))\n",
    ")[\"yad_no\"].to_list()\n",
    "\n",
    "next_item_list = (\n",
    "    train_label\n",
    "    .sort(\"session_id\")\n",
    ")[\"yad_no\"].to_list()\n",
    "\n",
    "prev_items_list_updated = []\n",
    "for prev_items, next_item in zip(prev_items_list, next_item_list):\n",
    "    prev_items.append(next_item)\n",
    "    prev_items_list_updated.append(prev_items)\n",
    "\n",
    "train_log = train_label.with_columns(\n",
    "    pl.Series(name=\"prev_items\", values=prev_items_list_updated)\n",
    ")\n",
    "\n",
    "train_log = explode_and_add_seq_no(train_log) \\\n",
    "    .drop(\"yad_no\") \\\n",
    "    .rename({\"prev_items\" : \"yad_no\"}) \\\n",
    "    [[\"session_id\", \"seq_no\", \"yad_no\"]] # カラム並び替え"
   ]
  },
  {
   "cell_type": "code",
   "execution_count": 11,
   "id": "ffb111db-05ed-4914-bd04-46f7d600d1ad",
   "metadata": {},
   "outputs": [],
   "source": [
    "log = pl.concat([train_log, test_log], how=\"vertical\")"
   ]
  },
  {
   "cell_type": "code",
   "execution_count": 12,
   "id": "a7ad80ed-40f9-4adb-aea3-21549637e8d9",
   "metadata": {},
   "outputs": [],
   "source": [
    "item = pl.read_csv(os.path.join(INPUT_DIR, \"yado.csv\"))"
   ]
  },
  {
   "cell_type": "code",
   "execution_count": 13,
   "id": "e6b78124-7c7f-4367-8b22-c38fb8f000d4",
   "metadata": {},
   "outputs": [],
   "source": [
    "item_feat = generate_product_features(item, test_log, log)\n",
    "item_feat.write_parquet(os.path.join(OUTPUT_DIR, \"product_feat_test.parquet\"))"
   ]
  },
  {
   "cell_type": "code",
   "execution_count": null,
   "id": "e9914a88-219b-441f-aeaf-7a53d0708016",
   "metadata": {},
   "outputs": [],
   "source": []
  }
 ],
 "metadata": {
  "kernelspec": {
   "display_name": "Python 3 (ipykernel)",
   "language": "python",
   "name": "python3"
  },
  "language_info": {
   "codemirror_mode": {
    "name": "ipython",
    "version": 3
   },
   "file_extension": ".py",
   "mimetype": "text/x-python",
   "name": "python",
   "nbconvert_exporter": "python",
   "pygments_lexer": "ipython3",
   "version": "3.10.12"
  }
 },
 "nbformat": 4,
 "nbformat_minor": 5
}
