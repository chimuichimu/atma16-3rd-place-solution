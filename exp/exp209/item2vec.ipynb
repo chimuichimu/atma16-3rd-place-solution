{
 "cells": [
  {
   "cell_type": "markdown",
   "id": "8efcce1a-165a-4a5b-aa5b-1b0d0c4a23c1",
   "metadata": {},
   "source": [
    "# Setting"
   ]
  },
  {
   "cell_type": "code",
   "execution_count": 1,
   "id": "7c076122-4690-4781-a486-e699bed02d69",
   "metadata": {},
   "outputs": [
    {
     "name": "stderr",
     "output_type": "stream",
     "text": [
      "/opt/conda/lib/python3.10/site-packages/scipy/__init__.py:146: UserWarning: A NumPy version >=1.16.5 and <1.23.0 is required for this version of SciPy (detected version 1.23.5\n",
      "  warnings.warn(f\"A NumPy version >={np_minversion} and <{np_maxversion}\"\n"
     ]
    }
   ],
   "source": [
    "import os\n",
    "from collections import defaultdict, Counter\n",
    "from typing import List, Dict, Union\n",
    "import pickle\n",
    "\n",
    "from tqdm import tqdm\n",
    "import numpy as np\n",
    "import polars as pl\n",
    "from gensim.models import Word2Vec\n",
    "\n",
    "from scripts.metrics import map_at_k"
   ]
  },
  {
   "cell_type": "code",
   "execution_count": 2,
   "id": "298c78ad-edda-49c1-a972-842d08660152",
   "metadata": {},
   "outputs": [],
   "source": [
    "INPUT_DIR = \"../../input/raw/\"\n",
    "OUTPUT_DIR = \"./candidates/\""
   ]
  },
  {
   "cell_type": "code",
   "execution_count": 3,
   "id": "a45366a2-4214-463a-a413-9648e2fd3255",
   "metadata": {},
   "outputs": [],
   "source": [
    "TOP_N = 5\n",
    "SEED = 42"
   ]
  },
  {
   "cell_type": "code",
   "execution_count": 4,
   "id": "f51f82be-de47-4828-a787-cf6df7be48cf",
   "metadata": {},
   "outputs": [],
   "source": [
    "def explode_and_add_seq_no(df:pl.DataFrame) -> pl.DataFrame:\n",
    "    df = df.explode([\"prev_items\"])\n",
    "    df = df.with_columns(\n",
    "        df.select(pl.col(\"session_id\").cumcount().over(\"session_id\").alias(\"seq_no\").cast(pl.Int64))\n",
    "    )\n",
    "    return df"
   ]
  },
  {
   "cell_type": "code",
   "execution_count": 5,
   "id": "a81a7f11-f25d-4850-b084-6d713bc2585d",
   "metadata": {},
   "outputs": [],
   "source": [
    "def train_word2vec(df:pl.DataFrame) -> Word2Vec:\n",
    "\n",
    "    # sessionごとにaidのシーケンスを作成\n",
    "    aid_sequences = list(df.group_by(\"session_id\", maintain_order=True).all()[\"yad_no\"].to_list())\n",
    "\n",
    "    # word2vecの学習\n",
    "    model = Word2Vec(\n",
    "        sentences=aid_sequences,\n",
    "        epochs=50,\n",
    "        vector_size=100,\n",
    "        window=10,\n",
    "        ns_exponent=-0.5,\n",
    "        workers=8,\n",
    "        min_count=1,\n",
    "        seed=SEED,\n",
    "    )\n",
    "\n",
    "    return model"
   ]
  },
  {
   "cell_type": "code",
   "execution_count": 17,
   "id": "110f8ebc-fac5-4dc8-80a6-1361eff0e91c",
   "metadata": {},
   "outputs": [],
   "source": [
    "def make_nns_matrix(w2v, k):\n",
    "    aid_xs = []\n",
    "    aid_ys = []\n",
    "    sims = []\n",
    "    for aid in tqdm(w2v.wv.index_to_key):\n",
    "        nns = w2v.wv.most_similar(aid, topn=k)\n",
    "        aid_y = [x[0] for x in nns]\n",
    "        sim = [x[1] for x in nns]\n",
    "        aid_xs.extend([aid] * k)\n",
    "        aid_ys.extend(aid_y)\n",
    "        sims.extend(sim)\n",
    "    df = pl.DataFrame({\"yad_no\": aid_xs, \"candidate_yad_no\": aid_ys, 'i2v_similality': sims})\n",
    "    \n",
    "    # rankを計算\n",
    "    df = df.with_columns(\n",
    "        pl.col(\"i2v_similality\").rank(descending=True).over(\"yad_no\").alias(\"i2v_rank\")\n",
    "    ).drop(\"i2v_similality\")\n",
    "\n",
    "    return df"
   ]
  },
  {
   "cell_type": "markdown",
   "id": "491659c0-7e69-471e-96eb-451c0575d045",
   "metadata": {},
   "source": [
    "# For local train/eval"
   ]
  },
  {
   "cell_type": "code",
   "execution_count": 18,
   "id": "4e35acd2-91b7-4301-823d-65c3593b0e5b",
   "metadata": {},
   "outputs": [],
   "source": [
    "train_log = pl.read_csv(os.path.join(INPUT_DIR, \"train_log.csv\"))\n",
    "test_log = pl.read_csv(os.path.join(INPUT_DIR, \"test_log.csv\"))"
   ]
  },
  {
   "cell_type": "code",
   "execution_count": 19,
   "id": "ec767d0f-9ab5-490b-bebc-874604f0f6e9",
   "metadata": {},
   "outputs": [],
   "source": [
    "log = pl.concat([train_log, test_log], how=\"vertical\")"
   ]
  },
  {
   "cell_type": "code",
   "execution_count": 20,
   "id": "81b8b94c-921c-4622-a727-4f84668e8041",
   "metadata": {},
   "outputs": [],
   "source": [
    "# train and save word2vec model\n",
    "model = train_word2vec(log)\n",
    "model.save(\"./features/item2vec_for_train_or_eval.model\")"
   ]
  },
  {
   "cell_type": "code",
   "execution_count": 21,
   "id": "ea78b085-758d-4af5-8748-9b6ae89c9b07",
   "metadata": {},
   "outputs": [
    {
     "name": "stderr",
     "output_type": "stream",
     "text": [
      "100% 13562/13562 [00:10<00:00, 1305.64it/s]\n"
     ]
    }
   ],
   "source": [
    "nns_matrix = make_nns_matrix(model, TOP_N)"
   ]
  },
  {
   "cell_type": "code",
   "execution_count": 22,
   "id": "e7dc3966-6f39-4687-8edb-2a11724abcb7",
   "metadata": {},
   "outputs": [],
   "source": [
    "nns_matrix.write_parquet(os.path.join(OUTPUT_DIR, \"item2vec_for_train_or_eval.parquet\"))"
   ]
  },
  {
   "cell_type": "markdown",
   "id": "1951dcac-0337-46f7-afd2-23f12afe6fdb",
   "metadata": {},
   "source": [
    "# MAP@k=10"
   ]
  },
  {
   "cell_type": "code",
   "execution_count": 23,
   "id": "99b9bacc-af08-4a3c-aa0a-34e38016ec06",
   "metadata": {},
   "outputs": [],
   "source": [
    "train_log = pl.read_csv(os.path.join(INPUT_DIR, \"train_log.csv\"))\n",
    "train_label = pl.read_csv(os.path.join(INPUT_DIR, \"train_label.csv\")).rename({\"yad_no\":\"label_yad_no\"})"
   ]
  },
  {
   "cell_type": "code",
   "execution_count": 24,
   "id": "b7e1eb11-448e-4e0b-887c-25845e1589d5",
   "metadata": {},
   "outputs": [],
   "source": [
    "last_items = train_log.group_by(\"session_id\").last()"
   ]
  },
  {
   "cell_type": "code",
   "execution_count": 25,
   "id": "3475109c-84cd-4b4d-a059-274e0cd673a5",
   "metadata": {},
   "outputs": [],
   "source": [
    "nns_matrix = pl.read_parquet(os.path.join(OUTPUT_DIR, \"item2vec_for_train_or_eval.parquet\"))"
   ]
  },
  {
   "cell_type": "code",
   "execution_count": 26,
   "id": "2029228f-9bc1-489d-a291-7dfdf344d4ce",
   "metadata": {},
   "outputs": [],
   "source": [
    "prediction = last_items \\\n",
    "    .join(nns_matrix, on=\"yad_no\", how=\"left\") \\\n",
    "    .join(train_label, on=\"session_id\", how=\"left\") \\\n",
    "    .sort([\"session_id\", \"i2v_rank\"], descending=[False, False]) \\\n",
    "    .with_columns((pl.col(\"candidate_yad_no\") == pl.col(\"label_yad_no\")).cast(pl.Int8).alias(\"user_relevance\")) \\\n",
    "    .fill_null(0)"
   ]
  },
  {
   "cell_type": "code",
   "execution_count": 36,
   "id": "9264b833-bbe7-4230-86e4-6419e1d695bb",
   "metadata": {},
   "outputs": [
    {
     "data": {
      "text/html": [
       "<div><style>\n",
       ".dataframe > thead > tr > th,\n",
       ".dataframe > tbody > tr > td {\n",
       "  text-align: right;\n",
       "  white-space: pre-wrap;\n",
       "}\n",
       "</style>\n",
       "<small>shape: (1_443_490, 7)</small><table border=\"1\" class=\"dataframe\"><thead><tr><th>session_id</th><th>seq_no</th><th>yad_no</th><th>candidate_yad_no</th><th>i2v_rank</th><th>label_yad_no</th><th>user_relevance</th></tr><tr><td>str</td><td>i64</td><td>i64</td><td>i64</td><td>f64</td><td>i64</td><td>i8</td></tr></thead><tbody><tr><td>&quot;000007603d533d…</td><td>0</td><td>2395</td><td>11882</td><td>1.0</td><td>4101</td><td>0</td></tr><tr><td>&quot;000007603d533d…</td><td>0</td><td>2395</td><td>2808</td><td>2.0</td><td>4101</td><td>0</td></tr><tr><td>&quot;000007603d533d…</td><td>0</td><td>2395</td><td>4101</td><td>3.0</td><td>4101</td><td>1</td></tr><tr><td>&quot;000007603d533d…</td><td>0</td><td>2395</td><td>3324</td><td>4.0</td><td>4101</td><td>0</td></tr><tr><td>&quot;000007603d533d…</td><td>0</td><td>2395</td><td>5289</td><td>5.0</td><td>4101</td><td>0</td></tr><tr><td>&quot;0000ca043ed437…</td><td>0</td><td>13535</td><td>8253</td><td>1.0</td><td>8253</td><td>1</td></tr><tr><td>&quot;0000ca043ed437…</td><td>0</td><td>13535</td><td>8747</td><td>2.0</td><td>8253</td><td>0</td></tr><tr><td>&quot;0000ca043ed437…</td><td>0</td><td>13535</td><td>6516</td><td>3.0</td><td>8253</td><td>0</td></tr><tr><td>&quot;0000ca043ed437…</td><td>0</td><td>13535</td><td>2259</td><td>4.0</td><td>8253</td><td>0</td></tr><tr><td>&quot;0000ca043ed437…</td><td>0</td><td>13535</td><td>4488</td><td>5.0</td><td>8253</td><td>0</td></tr><tr><td>&quot;0000d4835cf113…</td><td>0</td><td>123</td><td>12379</td><td>1.0</td><td>4863</td><td>0</td></tr><tr><td>&quot;0000d4835cf113…</td><td>0</td><td>123</td><td>11724</td><td>2.0</td><td>4863</td><td>0</td></tr><tr><td>&hellip;</td><td>&hellip;</td><td>&hellip;</td><td>&hellip;</td><td>&hellip;</td><td>&hellip;</td><td>&hellip;</td></tr><tr><td>&quot;ffff7fb4617164…</td><td>0</td><td>7183</td><td>5037</td><td>4.0</td><td>13719</td><td>0</td></tr><tr><td>&quot;ffff7fb4617164…</td><td>0</td><td>7183</td><td>2097</td><td>5.0</td><td>13719</td><td>0</td></tr><tr><td>&quot;ffffcd5bc19d62…</td><td>2</td><td>12230</td><td>11091</td><td>1.0</td><td>10619</td><td>0</td></tr><tr><td>&quot;ffffcd5bc19d62…</td><td>2</td><td>12230</td><td>12829</td><td>2.0</td><td>10619</td><td>0</td></tr><tr><td>&quot;ffffcd5bc19d62…</td><td>2</td><td>12230</td><td>13661</td><td>3.0</td><td>10619</td><td>0</td></tr><tr><td>&quot;ffffcd5bc19d62…</td><td>2</td><td>12230</td><td>7551</td><td>4.0</td><td>10619</td><td>0</td></tr><tr><td>&quot;ffffcd5bc19d62…</td><td>2</td><td>12230</td><td>10616</td><td>5.0</td><td>10619</td><td>0</td></tr><tr><td>&quot;fffffa7baf3700…</td><td>1</td><td>11822</td><td>1372</td><td>1.0</td><td>2439</td><td>0</td></tr><tr><td>&quot;fffffa7baf3700…</td><td>1</td><td>11822</td><td>10415</td><td>2.0</td><td>2439</td><td>0</td></tr><tr><td>&quot;fffffa7baf3700…</td><td>1</td><td>11822</td><td>10439</td><td>3.0</td><td>2439</td><td>0</td></tr><tr><td>&quot;fffffa7baf3700…</td><td>1</td><td>11822</td><td>6579</td><td>4.0</td><td>2439</td><td>0</td></tr><tr><td>&quot;fffffa7baf3700…</td><td>1</td><td>11822</td><td>5294</td><td>5.0</td><td>2439</td><td>0</td></tr></tbody></table></div>"
      ],
      "text/plain": [
       "shape: (1_443_490, 7)\n",
       "┌──────────────────┬────────┬────────┬──────────────────┬──────────┬──────────────┬────────────────┐\n",
       "│ session_id       ┆ seq_no ┆ yad_no ┆ candidate_yad_no ┆ i2v_rank ┆ label_yad_no ┆ user_relevance │\n",
       "│ ---              ┆ ---    ┆ ---    ┆ ---              ┆ ---      ┆ ---          ┆ ---            │\n",
       "│ str              ┆ i64    ┆ i64    ┆ i64              ┆ f64      ┆ i64          ┆ i8             │\n",
       "╞══════════════════╪════════╪════════╪══════════════════╪══════════╪══════════════╪════════════════╡\n",
       "│ 000007603d533d30 ┆ 0      ┆ 2395   ┆ 11882            ┆ 1.0      ┆ 4101         ┆ 0              │\n",
       "│ 453cc45d0f3d119f ┆        ┆        ┆                  ┆          ┆              ┆                │\n",
       "│ 000007603d533d30 ┆ 0      ┆ 2395   ┆ 2808             ┆ 2.0      ┆ 4101         ┆ 0              │\n",
       "│ 453cc45d0f3d119f ┆        ┆        ┆                  ┆          ┆              ┆                │\n",
       "│ 000007603d533d30 ┆ 0      ┆ 2395   ┆ 4101             ┆ 3.0      ┆ 4101         ┆ 1              │\n",
       "│ 453cc45d0f3d119f ┆        ┆        ┆                  ┆          ┆              ┆                │\n",
       "│ 000007603d533d30 ┆ 0      ┆ 2395   ┆ 3324             ┆ 4.0      ┆ 4101         ┆ 0              │\n",
       "│ 453cc45d0f3d119f ┆        ┆        ┆                  ┆          ┆              ┆                │\n",
       "│ …                ┆ …      ┆ …      ┆ …                ┆ …        ┆ …            ┆ …              │\n",
       "│ fffffa7baf370083 ┆ 1      ┆ 11822  ┆ 10415            ┆ 2.0      ┆ 2439         ┆ 0              │\n",
       "│ ebcdd98f26a7e31a ┆        ┆        ┆                  ┆          ┆              ┆                │\n",
       "│ fffffa7baf370083 ┆ 1      ┆ 11822  ┆ 10439            ┆ 3.0      ┆ 2439         ┆ 0              │\n",
       "│ ebcdd98f26a7e31a ┆        ┆        ┆                  ┆          ┆              ┆                │\n",
       "│ fffffa7baf370083 ┆ 1      ┆ 11822  ┆ 6579             ┆ 4.0      ┆ 2439         ┆ 0              │\n",
       "│ ebcdd98f26a7e31a ┆        ┆        ┆                  ┆          ┆              ┆                │\n",
       "│ fffffa7baf370083 ┆ 1      ┆ 11822  ┆ 5294             ┆ 5.0      ┆ 2439         ┆ 0              │\n",
       "│ ebcdd98f26a7e31a ┆        ┆        ┆                  ┆          ┆              ┆                │\n",
       "└──────────────────┴────────┴────────┴──────────────────┴──────────┴──────────────┴────────────────┘"
      ]
     },
     "execution_count": 36,
     "metadata": {},
     "output_type": "execute_result"
    }
   ],
   "source": [
    "prediction"
   ]
  },
  {
   "cell_type": "code",
   "execution_count": 27,
   "id": "f5ca022a-2984-42ce-8cbd-eb426c7cf081",
   "metadata": {},
   "outputs": [],
   "source": [
    "user_relevances = prediction.group_by(\"session_id\", maintain_order=True).all()[\"user_relevance\"].to_list()"
   ]
  },
  {
   "cell_type": "code",
   "execution_count": 28,
   "id": "dce91a9c-e67a-4f9b-8251-8825d4d8ed44",
   "metadata": {},
   "outputs": [
    {
     "data": {
      "text/plain": [
       "0.12351378718707202"
      ]
     },
     "execution_count": 28,
     "metadata": {},
     "output_type": "execute_result"
    }
   ],
   "source": [
    "map_at_k(user_relevances, 10)"
   ]
  },
  {
   "cell_type": "markdown",
   "id": "d38d2dcb-d08b-4512-ae8c-99b312cd17cc",
   "metadata": {},
   "source": [
    "# For test"
   ]
  },
  {
   "cell_type": "code",
   "execution_count": 29,
   "id": "5c3f3672-b7c1-4588-8129-b0428d8f4c10",
   "metadata": {},
   "outputs": [],
   "source": [
    "train_log = pl.read_csv(os.path.join(INPUT_DIR, \"train_log.csv\"))\n",
    "train_label = pl.read_csv(os.path.join(INPUT_DIR, \"train_label.csv\"))\n",
    "test_log = pl.read_csv(os.path.join(INPUT_DIR, \"test_log.csv\"))"
   ]
  },
  {
   "cell_type": "code",
   "execution_count": 30,
   "id": "f6aa87c7-5892-4368-ac79-34eca4ce2287",
   "metadata": {},
   "outputs": [],
   "source": [
    "# trainのlabelをlogにappendする\n",
    "\n",
    "prev_items_list = (\n",
    "    train_log\n",
    "    .sort([\"session_id\", \"seq_no\"])\n",
    "    .group_by(\"session_id\", maintain_order=True)\n",
    "    .agg(pl.col(\"yad_no\"))\n",
    ")[\"yad_no\"].to_list()\n",
    "\n",
    "next_item_list = (\n",
    "    train_label\n",
    "    .sort(\"session_id\")\n",
    ")[\"yad_no\"].to_list()\n",
    "\n",
    "prev_items_list_updated = []\n",
    "for prev_items, next_item in zip(prev_items_list, next_item_list):\n",
    "    prev_items.append(next_item)\n",
    "    prev_items_list_updated.append(prev_items)\n",
    "\n",
    "train_log = train_label.with_columns(\n",
    "    pl.Series(name=\"prev_items\", values=prev_items_list_updated)\n",
    ")\n",
    "\n",
    "train_log = explode_and_add_seq_no(train_log) \\\n",
    "    .drop(\"yad_no\") \\\n",
    "    .rename({\"prev_items\" : \"yad_no\"}) \\\n",
    "    [[\"session_id\", \"seq_no\", \"yad_no\"]] # カラム並び替え"
   ]
  },
  {
   "cell_type": "code",
   "execution_count": 31,
   "id": "9b07f3a0-7312-4e76-ac4b-f4465f4d3146",
   "metadata": {},
   "outputs": [],
   "source": [
    "log = pl.concat([train_log, test_log], how=\"vertical\")"
   ]
  },
  {
   "cell_type": "code",
   "execution_count": 32,
   "id": "a0be5548-20f3-48c8-8079-19c00cac1541",
   "metadata": {},
   "outputs": [],
   "source": [
    "# train and save word2vec model\n",
    "model = train_word2vec(log)\n",
    "model.save(\"./features/item2vec_for_test.model\")"
   ]
  },
  {
   "cell_type": "code",
   "execution_count": 33,
   "id": "ddade8ea-a3e6-469c-9f76-98db61927787",
   "metadata": {},
   "outputs": [
    {
     "name": "stderr",
     "output_type": "stream",
     "text": [
      "100% 13806/13806 [00:08<00:00, 1694.83it/s]\n"
     ]
    }
   ],
   "source": [
    "nns_matrix = make_nns_matrix(model, TOP_N)"
   ]
  },
  {
   "cell_type": "code",
   "execution_count": 34,
   "id": "53c2ae01-bce7-43eb-833c-15297ea40396",
   "metadata": {},
   "outputs": [],
   "source": [
    "nns_matrix.write_parquet(os.path.join(OUTPUT_DIR, \"item2vec_for_test.parquet\"))"
   ]
  },
  {
   "cell_type": "code",
   "execution_count": 35,
   "id": "e3c1d2ea-4378-4787-9c94-cde3aa8937a4",
   "metadata": {},
   "outputs": [
    {
     "data": {
      "text/html": [
       "<div><style>\n",
       ".dataframe > thead > tr > th,\n",
       ".dataframe > tbody > tr > td {\n",
       "  text-align: right;\n",
       "  white-space: pre-wrap;\n",
       "}\n",
       "</style>\n",
       "<small>shape: (5, 3)</small><table border=\"1\" class=\"dataframe\"><thead><tr><th>yad_no</th><th>candidate_yad_no</th><th>i2v_rank</th></tr><tr><td>i64</td><td>i64</td><td>f64</td></tr></thead><tbody><tr><td>12350</td><td>915</td><td>1.0</td></tr><tr><td>12350</td><td>3338</td><td>2.0</td></tr><tr><td>12350</td><td>3137</td><td>3.0</td></tr><tr><td>12350</td><td>5157</td><td>4.0</td></tr><tr><td>12350</td><td>4169</td><td>5.0</td></tr></tbody></table></div>"
      ],
      "text/plain": [
       "shape: (5, 3)\n",
       "┌────────┬──────────────────┬──────────┐\n",
       "│ yad_no ┆ candidate_yad_no ┆ i2v_rank │\n",
       "│ ---    ┆ ---              ┆ ---      │\n",
       "│ i64    ┆ i64              ┆ f64      │\n",
       "╞════════╪══════════════════╪══════════╡\n",
       "│ 12350  ┆ 915              ┆ 1.0      │\n",
       "│ 12350  ┆ 3338             ┆ 2.0      │\n",
       "│ 12350  ┆ 3137             ┆ 3.0      │\n",
       "│ 12350  ┆ 5157             ┆ 4.0      │\n",
       "│ 12350  ┆ 4169             ┆ 5.0      │\n",
       "└────────┴──────────────────┴──────────┘"
      ]
     },
     "execution_count": 35,
     "metadata": {},
     "output_type": "execute_result"
    }
   ],
   "source": [
    "nns_matrix.head()"
   ]
  },
  {
   "cell_type": "code",
   "execution_count": null,
   "id": "ac43ffe8-9188-4a29-9d3b-e3c7ec524dbe",
   "metadata": {},
   "outputs": [],
   "source": []
  }
 ],
 "metadata": {
  "kernelspec": {
   "display_name": "Python 3 (ipykernel)",
   "language": "python",
   "name": "python3"
  },
  "language_info": {
   "codemirror_mode": {
    "name": "ipython",
    "version": 3
   },
   "file_extension": ".py",
   "mimetype": "text/x-python",
   "name": "python",
   "nbconvert_exporter": "python",
   "pygments_lexer": "ipython3",
   "version": "3.10.12"
  }
 },
 "nbformat": 4,
 "nbformat_minor": 5
}
