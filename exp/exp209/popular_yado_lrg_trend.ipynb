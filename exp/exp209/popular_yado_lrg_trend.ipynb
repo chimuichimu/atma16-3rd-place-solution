{
 "cells": [
  {
   "cell_type": "markdown",
   "id": "8efcce1a-165a-4a5b-aa5b-1b0d0c4a23c1",
   "metadata": {},
   "source": [
    "# Setting"
   ]
  },
  {
   "cell_type": "code",
   "execution_count": 1,
   "id": "7c076122-4690-4781-a486-e699bed02d69",
   "metadata": {},
   "outputs": [],
   "source": [
    "import os\n",
    "\n",
    "import polars as pl\n",
    "from tqdm import tqdm\n",
    "\n",
    "from scripts.metrics import map_at_k"
   ]
  },
  {
   "cell_type": "code",
   "execution_count": 2,
   "id": "298c78ad-edda-49c1-a972-842d08660152",
   "metadata": {},
   "outputs": [],
   "source": [
    "INPUT_DIR = \"../../input/raw/\"\n",
    "OUTPUT_DIR = \"./candidates/\""
   ]
  },
  {
   "cell_type": "code",
   "execution_count": 3,
   "id": "9e0a9d29-4adb-414f-a376-9ca0cd392f54",
   "metadata": {},
   "outputs": [],
   "source": [
    "def explode_and_add_seq_no(df:pl.DataFrame) -> pl.DataFrame:\n",
    "    df = df.explode([\"prev_items\"])\n",
    "    df = df.with_columns(\n",
    "        df.select(pl.col(\"session_id\").cumcount().over(\"session_id\").alias(\"seq_no\").cast(pl.Int64))\n",
    "    )\n",
    "    return df"
   ]
  },
  {
   "cell_type": "code",
   "execution_count": 4,
   "id": "0149dfe7-a426-419c-9a11-7f7c4595ffd9",
   "metadata": {},
   "outputs": [],
   "source": [
    "def generate_popular_yados_per_lrg_cd(logs, yados):\n",
    "    logs = logs.join(yados[[\"yad_no\", \"lrg_cd\"]], on=\"yad_no\", how=\"left\")\n",
    "    \n",
    "    popular_yados = logs.group_by(\"yad_no\").count().rename({\"count\":\"popularity\"})\n",
    "    popular_yados = yados.join(popular_yados, on=\"yad_no\", how=\"left\").fill_null(0)\n",
    "    popular_yados = popular_yados \\\n",
    "        .sort([\"lrg_cd\", \"popularity\"], descending=[False, True]) \\\n",
    "        .group_by(\"lrg_cd\", maintain_order=True) \\\n",
    "        .head(10)\n",
    "    popular_yados = popular_yados.with_columns(pl.col(\"popularity\").rank(descending=True).over(\"lrg_cd\").alias(\"trend_popularity_rank_lrg\"))\n",
    "    \n",
    "    df = yados[[\"yad_no\", \"lrg_cd\"]] \\\n",
    "        .join(popular_yados[[\"yad_no\", \"lrg_cd\", \"trend_popularity_rank_lrg\"]], on=\"lrg_cd\", how=\"left\") \\\n",
    "        .rename({\"yad_no_right\":\"candidate_yad_no\"}) \\\n",
    "        .filter(pl.col(\"yad_no\") != pl.col(\"candidate_yad_no\"))\n",
    "\n",
    "    return df"
   ]
  },
  {
   "cell_type": "markdown",
   "id": "014dd256-c839-4342-a2ad-7e3df6fbaaf6",
   "metadata": {},
   "source": [
    "# For local train/eval"
   ]
  },
  {
   "cell_type": "code",
   "execution_count": 5,
   "id": "d8880c47-b867-4260-8517-81d31336bc3b",
   "metadata": {},
   "outputs": [],
   "source": [
    "train_log = pl.read_csv(os.path.join(INPUT_DIR, \"train_log.csv\"))"
   ]
  },
  {
   "cell_type": "code",
   "execution_count": 6,
   "id": "f60df743-1dd1-47ad-9441-e04b5bce93db",
   "metadata": {},
   "outputs": [],
   "source": [
    "yados = pl.read_csv(os.path.join(INPUT_DIR, \"yado.csv\"))"
   ]
  },
  {
   "cell_type": "code",
   "execution_count": 7,
   "id": "e838b5f8-ed8e-4485-ae43-0d443d4520c8",
   "metadata": {},
   "outputs": [],
   "source": [
    "popular_yados_per_lrg_cd = generate_popular_yados_per_lrg_cd(train_log, yados)"
   ]
  },
  {
   "cell_type": "code",
   "execution_count": 8,
   "id": "e70f8053-5463-49bb-ae7a-643dd8396f3f",
   "metadata": {},
   "outputs": [],
   "source": [
    "popular_yados_per_lrg_cd.write_parquet(os.path.join(OUTPUT_DIR, \"trend_popular_yados_per_lrg_cd_for_train_or_eval.parquet\"))"
   ]
  },
  {
   "cell_type": "code",
   "execution_count": 9,
   "id": "4ccf3668-cd1b-4d55-a92a-1096cfa3d20b",
   "metadata": {},
   "outputs": [
    {
     "data": {
      "text/html": [
       "<div><style>\n",
       ".dataframe > thead > tr > th,\n",
       ".dataframe > tbody > tr > td {\n",
       "  text-align: right;\n",
       "  white-space: pre-wrap;\n",
       "}\n",
       "</style>\n",
       "<small>shape: (5, 4)</small><table border=\"1\" class=\"dataframe\"><thead><tr><th>yad_no</th><th>lrg_cd</th><th>candidate_yad_no</th><th>trend_popularity_rank_lrg</th></tr><tr><td>i64</td><td>str</td><td>i64</td><td>f64</td></tr></thead><tbody><tr><td>1</td><td>&quot;449c52ef581d5f…</td><td>1818</td><td>1.0</td></tr><tr><td>1</td><td>&quot;449c52ef581d5f…</td><td>13017</td><td>2.0</td></tr><tr><td>1</td><td>&quot;449c52ef581d5f…</td><td>693</td><td>3.0</td></tr><tr><td>1</td><td>&quot;449c52ef581d5f…</td><td>9971</td><td>4.0</td></tr><tr><td>1</td><td>&quot;449c52ef581d5f…</td><td>4646</td><td>5.0</td></tr></tbody></table></div>"
      ],
      "text/plain": [
       "shape: (5, 4)\n",
       "┌────────┬──────────────────────────────────┬──────────────────┬───────────────────────────┐\n",
       "│ yad_no ┆ lrg_cd                           ┆ candidate_yad_no ┆ trend_popularity_rank_lrg │\n",
       "│ ---    ┆ ---                              ┆ ---              ┆ ---                       │\n",
       "│ i64    ┆ str                              ┆ i64              ┆ f64                       │\n",
       "╞════════╪══════════════════════════════════╪══════════════════╪═══════════════════════════╡\n",
       "│ 1      ┆ 449c52ef581d5f9ef311189469a0520e ┆ 1818             ┆ 1.0                       │\n",
       "│ 1      ┆ 449c52ef581d5f9ef311189469a0520e ┆ 13017            ┆ 2.0                       │\n",
       "│ 1      ┆ 449c52ef581d5f9ef311189469a0520e ┆ 693              ┆ 3.0                       │\n",
       "│ 1      ┆ 449c52ef581d5f9ef311189469a0520e ┆ 9971             ┆ 4.0                       │\n",
       "│ 1      ┆ 449c52ef581d5f9ef311189469a0520e ┆ 4646             ┆ 5.0                       │\n",
       "└────────┴──────────────────────────────────┴──────────────────┴───────────────────────────┘"
      ]
     },
     "execution_count": 9,
     "metadata": {},
     "output_type": "execute_result"
    }
   ],
   "source": [
    "popular_yados_per_lrg_cd.head()"
   ]
  },
  {
   "cell_type": "markdown",
   "id": "4f64274f-1435-4bc6-a8c8-784ec0fe05c7",
   "metadata": {},
   "source": [
    "# Map@k=10"
   ]
  },
  {
   "cell_type": "code",
   "execution_count": 10,
   "id": "e34550a0-0121-4174-85c8-9d2bfdaba5a1",
   "metadata": {},
   "outputs": [],
   "source": [
    "train_log = pl.read_csv(os.path.join(INPUT_DIR, \"train_log.csv\"))\n",
    "train_label = pl.read_csv(os.path.join(INPUT_DIR, \"train_label.csv\")).rename({\"yad_no\":\"label_yad_no\"})"
   ]
  },
  {
   "cell_type": "code",
   "execution_count": 11,
   "id": "8cb1b447-d215-414e-b40f-4417d58adfc0",
   "metadata": {},
   "outputs": [],
   "source": [
    "last_items = train_log.group_by(\"session_id\").last()"
   ]
  },
  {
   "cell_type": "code",
   "execution_count": 12,
   "id": "7cb3dcfa-ba54-4348-b4d7-11a5183644bc",
   "metadata": {},
   "outputs": [],
   "source": [
    "popular_yados_per_lrg_cd = pl.read_parquet(os.path.join(OUTPUT_DIR, \"trend_popular_yados_per_lrg_cd_for_train_or_eval.parquet\"))"
   ]
  },
  {
   "cell_type": "code",
   "execution_count": 13,
   "id": "9627cf0f-f65b-4bff-a662-11779e6967eb",
   "metadata": {},
   "outputs": [],
   "source": [
    "prediction = last_items \\\n",
    "    .join(popular_yados_per_lrg_cd, on=\"yad_no\", how=\"left\") \\\n",
    "    .join(train_label, on=\"session_id\", how=\"left\") \\\n",
    "    .sort([\"session_id\", \"trend_popularity_rank_lrg\"], descending=[False, False]) \\\n",
    "    .with_columns((pl.col(\"candidate_yad_no\") == pl.col(\"label_yad_no\")).cast(pl.Int8).alias(\"user_relevance\")) \\\n",
    "    .fill_null(0)"
   ]
  },
  {
   "cell_type": "code",
   "execution_count": 14,
   "id": "b4551097-44e0-4194-b3ce-dae71352b33f",
   "metadata": {},
   "outputs": [
    {
     "data": {
      "text/plain": [
       "0.13150770806028203"
      ]
     },
     "execution_count": 14,
     "metadata": {},
     "output_type": "execute_result"
    }
   ],
   "source": [
    "user_relevances = prediction.group_by(\"session_id\", maintain_order=True).all()[\"user_relevance\"].to_list()\n",
    "map_at_k(user_relevances, 10)"
   ]
  },
  {
   "cell_type": "markdown",
   "id": "82c8d24f-2980-4232-b1be-deb011e6456c",
   "metadata": {},
   "source": [
    "# For Test"
   ]
  },
  {
   "cell_type": "code",
   "execution_count": 15,
   "id": "ff7db625-c145-452a-85fb-fd4fc05828dc",
   "metadata": {},
   "outputs": [],
   "source": [
    "test_log = pl.read_csv(os.path.join(INPUT_DIR, \"test_log.csv\"))"
   ]
  },
  {
   "cell_type": "code",
   "execution_count": 16,
   "id": "d5d82c63-ffc5-4b79-afe2-20f19b2933a1",
   "metadata": {},
   "outputs": [],
   "source": [
    "popular_yados_per_lrg_cd = generate_popular_yados_per_lrg_cd(test_log, yados)"
   ]
  },
  {
   "cell_type": "code",
   "execution_count": 17,
   "id": "faed2488-4c04-499a-93a0-4ef51baa0d74",
   "metadata": {},
   "outputs": [],
   "source": [
    "popular_yados_per_lrg_cd.write_parquet(os.path.join(OUTPUT_DIR, \"trend_popular_yados_per_lrg_cd_for_test.parquet\"))"
   ]
  },
  {
   "cell_type": "code",
   "execution_count": 18,
   "id": "4d3de38d-83ad-4a55-a05b-8e856ad2d455",
   "metadata": {},
   "outputs": [
    {
     "data": {
      "text/html": [
       "<div><style>\n",
       ".dataframe > thead > tr > th,\n",
       ".dataframe > tbody > tr > td {\n",
       "  text-align: right;\n",
       "  white-space: pre-wrap;\n",
       "}\n",
       "</style>\n",
       "<small>shape: (5, 4)</small><table border=\"1\" class=\"dataframe\"><thead><tr><th>yad_no</th><th>lrg_cd</th><th>candidate_yad_no</th><th>trend_popularity_rank_lrg</th></tr><tr><td>i64</td><td>str</td><td>i64</td><td>f64</td></tr></thead><tbody><tr><td>1</td><td>&quot;449c52ef581d5f…</td><td>693</td><td>1.0</td></tr><tr><td>1</td><td>&quot;449c52ef581d5f…</td><td>4228</td><td>2.0</td></tr><tr><td>1</td><td>&quot;449c52ef581d5f…</td><td>1818</td><td>3.0</td></tr><tr><td>1</td><td>&quot;449c52ef581d5f…</td><td>3441</td><td>4.0</td></tr><tr><td>1</td><td>&quot;449c52ef581d5f…</td><td>3988</td><td>5.0</td></tr></tbody></table></div>"
      ],
      "text/plain": [
       "shape: (5, 4)\n",
       "┌────────┬──────────────────────────────────┬──────────────────┬───────────────────────────┐\n",
       "│ yad_no ┆ lrg_cd                           ┆ candidate_yad_no ┆ trend_popularity_rank_lrg │\n",
       "│ ---    ┆ ---                              ┆ ---              ┆ ---                       │\n",
       "│ i64    ┆ str                              ┆ i64              ┆ f64                       │\n",
       "╞════════╪══════════════════════════════════╪══════════════════╪═══════════════════════════╡\n",
       "│ 1      ┆ 449c52ef581d5f9ef311189469a0520e ┆ 693              ┆ 1.0                       │\n",
       "│ 1      ┆ 449c52ef581d5f9ef311189469a0520e ┆ 4228             ┆ 2.0                       │\n",
       "│ 1      ┆ 449c52ef581d5f9ef311189469a0520e ┆ 1818             ┆ 3.0                       │\n",
       "│ 1      ┆ 449c52ef581d5f9ef311189469a0520e ┆ 3441             ┆ 4.0                       │\n",
       "│ 1      ┆ 449c52ef581d5f9ef311189469a0520e ┆ 3988             ┆ 5.0                       │\n",
       "└────────┴──────────────────────────────────┴──────────────────┴───────────────────────────┘"
      ]
     },
     "execution_count": 18,
     "metadata": {},
     "output_type": "execute_result"
    }
   ],
   "source": [
    "popular_yados_per_lrg_cd.head()"
   ]
  },
  {
   "cell_type": "code",
   "execution_count": null,
   "id": "149c1423-db59-49f9-b8f4-7a75415eee41",
   "metadata": {},
   "outputs": [],
   "source": []
  },
  {
   "cell_type": "code",
   "execution_count": null,
   "id": "ff96e800-7a35-4dc1-85e2-44c1233009e6",
   "metadata": {},
   "outputs": [],
   "source": []
  }
 ],
 "metadata": {
  "kernelspec": {
   "display_name": "Python 3 (ipykernel)",
   "language": "python",
   "name": "python3"
  },
  "language_info": {
   "codemirror_mode": {
    "name": "ipython",
    "version": 3
   },
   "file_extension": ".py",
   "mimetype": "text/x-python",
   "name": "python",
   "nbconvert_exporter": "python",
   "pygments_lexer": "ipython3",
   "version": "3.10.12"
  }
 },
 "nbformat": 4,
 "nbformat_minor": 5
}
