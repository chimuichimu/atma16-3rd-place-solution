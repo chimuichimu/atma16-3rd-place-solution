{
 "cells": [
  {
   "cell_type": "markdown",
   "id": "8efcce1a-165a-4a5b-aa5b-1b0d0c4a23c1",
   "metadata": {},
   "source": [
    "# Setting"
   ]
  },
  {
   "cell_type": "code",
   "execution_count": 1,
   "id": "7c076122-4690-4781-a486-e699bed02d69",
   "metadata": {},
   "outputs": [
    {
     "name": "stderr",
     "output_type": "stream",
     "text": [
      "/opt/conda/lib/python3.10/site-packages/scipy/__init__.py:146: UserWarning: A NumPy version >=1.16.5 and <1.23.0 is required for this version of SciPy (detected version 1.23.5\n",
      "  warnings.warn(f\"A NumPy version >={np_minversion} and <{np_maxversion}\"\n"
     ]
    }
   ],
   "source": [
    "import os\n",
    "from typing import List, Dict, Union\n",
    "\n",
    "import numpy as np\n",
    "import polars as pl\n",
    "from tqdm import tqdm\n",
    "from sklearn.neighbors import BallTree\n",
    "\n",
    "from scripts.metrics import map_at_k"
   ]
  },
  {
   "cell_type": "code",
   "execution_count": 2,
   "id": "298c78ad-edda-49c1-a972-842d08660152",
   "metadata": {},
   "outputs": [],
   "source": [
    "INPUT_DIR = \"../../input/raw/\"\n",
    "OUTPUT_DIR = \"./candidates/\""
   ]
  },
  {
   "cell_type": "code",
   "execution_count": 3,
   "id": "06325d83-50a3-4769-b07d-c01e1e9aa1b1",
   "metadata": {},
   "outputs": [],
   "source": [
    "yados = pl.read_csv(os.path.join(INPUT_DIR, \"yado.csv\"))"
   ]
  },
  {
   "cell_type": "code",
   "execution_count": 4,
   "id": "97288765-143b-4eba-ba2c-46bad37fa6aa",
   "metadata": {},
   "outputs": [],
   "source": [
    "yado_vec = yados \\\n",
    "    .to_dummies(columns = [\"yad_type\", \"lrg_cd\", \"sml_cd\"]) \\\n",
    "    .fill_null(0) \\\n",
    "    .sort(\"yad_no\", descending=False) \\\n",
    "    .drop([\"yad_no\", \"total_room_cnt\", \"wid_cd\", \"ken_cd\"]) \\\n",
    "    .cast(pl.UInt8) \\\n",
    "    .to_numpy()"
   ]
  },
  {
   "cell_type": "code",
   "execution_count": 5,
   "id": "99a991e5-8d7e-4cf8-8e44-13eba835f6ee",
   "metadata": {},
   "outputs": [
    {
     "data": {
      "text/plain": [
       "(13806, 844)"
      ]
     },
     "execution_count": 5,
     "metadata": {},
     "output_type": "execute_result"
    }
   ],
   "source": [
    "yado_vec.shape"
   ]
  },
  {
   "cell_type": "code",
   "execution_count": 6,
   "id": "354c96cc-b7d1-40cc-8941-da68040ed701",
   "metadata": {},
   "outputs": [],
   "source": [
    "# BallTreeの構築\n",
    "tree = BallTree(yado_vec)"
   ]
  },
  {
   "cell_type": "code",
   "execution_count": 7,
   "id": "b43a7477-ec19-473d-95f7-61df05a8cb8b",
   "metadata": {},
   "outputs": [],
   "source": [
    "# k近傍の数\n",
    "k_neighbors = 100"
   ]
  },
  {
   "cell_type": "code",
   "execution_count": 8,
   "id": "2b2719cb-5e8a-4c0a-a399-2a3b4a1430eb",
   "metadata": {},
   "outputs": [
    {
     "name": "stderr",
     "output_type": "stream",
     "text": [
      "100% 13806/13806 [04:22<00:00, 52.67it/s]\n"
     ]
    }
   ],
   "source": [
    "target_indice_list = []\n",
    "nn_indice_list = []\n",
    "distances_list = []\n",
    "\n",
    "for idx in tqdm(range(0, len(yados))):\n",
    "    # k近傍探索\n",
    "    query_point = yado_vec[idx:idx+1, :]\n",
    "    distances, indices = tree.query(query_point, k=k_neighbors)\n",
    "\n",
    "    # 結果の格納\n",
    "    target_indice_list.extend([idx + 1 for _ in range(k_neighbors)])\n",
    "    nn_indice_list.extend(list(indices[0]+1))\n",
    "    distances_list.extend(list(distances[0]+1))\n",
    "\n",
    "similar_yados = pl.DataFrame({\n",
    "    \"yad_no\" : target_indice_list,\n",
    "    \"candidate_yad_no\" : nn_indice_list,\n",
    "    \"nn_distance\" : distances_list,\n",
    "}).filter(pl.col(\"yad_no\") != pl.col(\"candidate_yad_no\")).filter(pl.col(\"nn_distance\") == 1.0)"
   ]
  },
  {
   "cell_type": "code",
   "execution_count": 9,
   "id": "83d4474d-b64d-4d78-8466-20eac3abe038",
   "metadata": {},
   "outputs": [],
   "source": [
    "similar_yados.write_parquet(os.path.join(OUTPUT_DIR, \"similar_yados.parquet\"))"
   ]
  },
  {
   "cell_type": "code",
   "execution_count": 10,
   "id": "d6e5a6d6-63be-424e-832e-8e9b1804d8e5",
   "metadata": {},
   "outputs": [
    {
     "data": {
      "text/html": [
       "<div><style>\n",
       ".dataframe > thead > tr > th,\n",
       ".dataframe > tbody > tr > td {\n",
       "  text-align: right;\n",
       "  white-space: pre-wrap;\n",
       "}\n",
       "</style>\n",
       "<small>shape: (5, 3)</small><table border=\"1\" class=\"dataframe\"><thead><tr><th>yad_no</th><th>candidate_yad_no</th><th>nn_distance</th></tr><tr><td>i64</td><td>i64</td><td>f64</td></tr></thead><tbody><tr><td>1</td><td>6118</td><td>1.0</td></tr><tr><td>1</td><td>7367</td><td>1.0</td></tr><tr><td>1</td><td>5206</td><td>1.0</td></tr><tr><td>1</td><td>6125</td><td>1.0</td></tr><tr><td>1</td><td>6193</td><td>1.0</td></tr></tbody></table></div>"
      ],
      "text/plain": [
       "shape: (5, 3)\n",
       "┌────────┬──────────────────┬─────────────┐\n",
       "│ yad_no ┆ candidate_yad_no ┆ nn_distance │\n",
       "│ ---    ┆ ---              ┆ ---         │\n",
       "│ i64    ┆ i64              ┆ f64         │\n",
       "╞════════╪══════════════════╪═════════════╡\n",
       "│ 1      ┆ 6118             ┆ 1.0         │\n",
       "│ 1      ┆ 7367             ┆ 1.0         │\n",
       "│ 1      ┆ 5206             ┆ 1.0         │\n",
       "│ 1      ┆ 6125             ┆ 1.0         │\n",
       "│ 1      ┆ 6193             ┆ 1.0         │\n",
       "└────────┴──────────────────┴─────────────┘"
      ]
     },
     "execution_count": 10,
     "metadata": {},
     "output_type": "execute_result"
    }
   ],
   "source": [
    "similar_yados.head()"
   ]
  },
  {
   "cell_type": "markdown",
   "id": "1951dcac-0337-46f7-afd2-23f12afe6fdb",
   "metadata": {},
   "source": [
    "# MAP@k=10"
   ]
  },
  {
   "cell_type": "code",
   "execution_count": 11,
   "id": "99b9bacc-af08-4a3c-aa0a-34e38016ec06",
   "metadata": {},
   "outputs": [],
   "source": [
    "train_log = pl.read_csv(os.path.join(INPUT_DIR, \"train_log.csv\"))\n",
    "train_label = pl.read_csv(os.path.join(INPUT_DIR, \"train_label.csv\")).rename({\"yad_no\":\"label_yad_no\"})"
   ]
  },
  {
   "cell_type": "code",
   "execution_count": 12,
   "id": "b7e1eb11-448e-4e0b-887c-25845e1589d5",
   "metadata": {},
   "outputs": [],
   "source": [
    "last_items = train_log.group_by(\"session_id\").last()"
   ]
  },
  {
   "cell_type": "code",
   "execution_count": 13,
   "id": "3475109c-84cd-4b4d-a059-274e0cd673a5",
   "metadata": {},
   "outputs": [],
   "source": [
    "similar_yados = pl.read_parquet(os.path.join(OUTPUT_DIR, \"similar_yados.parquet\"))"
   ]
  },
  {
   "cell_type": "code",
   "execution_count": 14,
   "id": "2029228f-9bc1-489d-a291-7dfdf344d4ce",
   "metadata": {},
   "outputs": [],
   "source": [
    "prediction = last_items \\\n",
    "    .join(similar_yados, on=\"yad_no\", how=\"left\") \\\n",
    "    .join(train_label, on=\"session_id\", how=\"left\") \\\n",
    "    .sort([\"session_id\", \"nn_distance\"], descending=[False, False]) \\\n",
    "    .with_columns((pl.col(\"candidate_yad_no\") == pl.col(\"label_yad_no\")).cast(pl.Int8).alias(\"user_relevance\")) \\\n",
    "    .fill_null(0)"
   ]
  },
  {
   "cell_type": "code",
   "execution_count": 15,
   "id": "f5ca022a-2984-42ce-8cbd-eb426c7cf081",
   "metadata": {},
   "outputs": [],
   "source": [
    "user_relevances = prediction.group_by(\"session_id\", maintain_order=True).all()[\"user_relevance\"].to_list()"
   ]
  },
  {
   "cell_type": "code",
   "execution_count": 16,
   "id": "dce91a9c-e67a-4f9b-8251-8825d4d8ed44",
   "metadata": {},
   "outputs": [
    {
     "data": {
      "text/plain": [
       "0.06357899318527727"
      ]
     },
     "execution_count": 16,
     "metadata": {},
     "output_type": "execute_result"
    }
   ],
   "source": [
    "map_at_k(user_relevances, 10)"
   ]
  },
  {
   "cell_type": "code",
   "execution_count": null,
   "id": "f512212d-1e5e-4409-9555-a1e9745159bb",
   "metadata": {},
   "outputs": [],
   "source": []
  }
 ],
 "metadata": {
  "kernelspec": {
   "display_name": "Python 3 (ipykernel)",
   "language": "python",
   "name": "python3"
  },
  "language_info": {
   "codemirror_mode": {
    "name": "ipython",
    "version": 3
   },
   "file_extension": ".py",
   "mimetype": "text/x-python",
   "name": "python",
   "nbconvert_exporter": "python",
   "pygments_lexer": "ipython3",
   "version": "3.10.12"
  }
 },
 "nbformat": 4,
 "nbformat_minor": 5
}
